{
  "nbformat": 4,
  "nbformat_minor": 0,
  "metadata": {
    "colab": {
      "name": "Adslab_expt_1.ipynb",
      "provenance": [],
      "authorship_tag": "ABX9TyM4hvkT8uyJBY97SBxcIR8g",
      "include_colab_link": true
    },
    "kernelspec": {
      "name": "python3",
      "display_name": "Python 3"
    },
    "language_info": {
      "name": "python"
    },
    "accelerator": "GPU"
  },
  "cells": [
    {
      "cell_type": "markdown",
      "metadata": {
        "id": "view-in-github",
        "colab_type": "text"
      },
      "source": [
        "<a href=\"https://colab.research.google.com/github/Ramsayyy/Ramsayyy/blob/main/Adslab_expt_1.ipynb\" target=\"_parent\"><img src=\"https://colab.research.google.com/assets/colab-badge.svg\" alt=\"Open In Colab\"/></a>"
      ]
    },
    {
      "cell_type": "markdown",
      "source": [
        "Experiment 1 : Implementation of Class and Objects"
      ],
      "metadata": {
        "id": "ld4fgFxhL69d"
      }
    },
    {
      "cell_type": "markdown",
      "source": [
        "Calculator Program"
      ],
      "metadata": {
        "id": "fjyYM_DzOwie"
      }
    },
    {
      "cell_type": "code",
      "execution_count": null,
      "metadata": {
        "colab": {
          "base_uri": "https://localhost:8080/"
        },
        "id": "tassDzg1LzlO",
        "outputId": "a6c439b1-282f-4e14-cfdd-d70805d16460"
      },
      "outputs": [
        {
          "output_type": "stream",
          "name": "stdout",
          "text": [
            "Writing calc.cpp\n"
          ]
        }
      ],
      "source": [
        "%%writefile calc.cpp\n",
        "#include<iostream>\n",
        "using namespace std;\n",
        "class Calculator\n",
        "{\n",
        "  double a,b;\n",
        "  int choice,start;\n",
        "  double add(double a,double b)\n",
        "  {\n",
        "    return a+b;\n",
        "  }\n",
        "  double subtract(double a,double b)\n",
        "  {\n",
        "    return a-b;\n",
        "  }\n",
        "  double multiply(double a,double b)\n",
        "  {\n",
        "    return a*b;\n",
        "  }\n",
        "  double divide(double a,double b)\n",
        "  {\n",
        "    if(int(b))\n",
        "      return a/b;\n",
        "    return 0;\n",
        "  }\n",
        "  public:\n",
        "  Calculator()\n",
        "  {\n",
        "    a=0;\n",
        "    b=0;\n",
        "    choice=0;\n",
        "    start=1;\n",
        "  }\n",
        "  void calculate()\n",
        "  {\n",
        "    int isfinish=1;\n",
        "    while(isfinish)\n",
        "    {\n",
        "      int con=0;\n",
        "      if(choice)\n",
        "      {\n",
        "        cout<<\"Want To continue?\"<<endl;\n",
        "        cout<<\"1.Yes\"<<endl;\n",
        "        cout<<\"0.No\"<<endl;\n",
        "        cout<<\"Enter Your Reply:\";\n",
        "        cin>>con;\n",
        "        cout<<endl;\n",
        "      }\n",
        "      cout<<\"1.Add\"<<endl;\n",
        "      cout<<\"2.Subtract\"<<endl;\n",
        "      cout<<\"3.Multiply\"<<endl;\n",
        "      cout<<\"4.Divide\"<<endl;\n",
        "      cout<<\"5.End\"<<endl;\n",
        "      cout<<\"Enter Your Choice:\";\n",
        "      cin>>choice;\n",
        "      cout<<endl;\n",
        "      cout<<\"Enter a Number:\";\n",
        "      cin>>a;\n",
        "      if(!con & !start)\n",
        "      {\n",
        "        cout<<endl;\n",
        "        cout<<\"Enter Another number:\";\n",
        "        cin>>b;\n",
        "        start=0;\n",
        "      }\n",
        "      if(start)\n",
        "      {\n",
        "        cout<<endl;\n",
        "        cout<<\"Enter Another Number:\";\n",
        "        cin>>b;\n",
        "        start=0;\n",
        "      }\n",
        "      cout<<b<<endl;\n",
        "      switch(choice)\n",
        "      {\n",
        "        case 1: b=add(a,b);break;\n",
        "        case 2: b=subtract(a,b);break;\n",
        "        case 3: b=multiply(a,b);break;\n",
        "        case 4: b=divide(a,b);break;\n",
        "        case 5: isfinish=0;break;\n",
        "      }\n",
        "      cout<<b<<endl;\n",
        "      cout<<\"Ans:\"<<b<<endl;\n",
        "    }\n",
        "  }\n",
        "};\n",
        "int main()\n",
        "{\n",
        "  Calculator c;\n",
        "  c.calculate();\n",
        "  return 0;\n",
        "}"
      ]
    },
    {
      "cell_type": "code",
      "source": [
        "%%shell\n",
        "g++ calc.cpp -o output\n",
        "./output"
      ],
      "metadata": {
        "colab": {
          "base_uri": "https://localhost:8080/"
        },
        "id": "tAMBuzj-MDL8",
        "outputId": "f2614640-bf70-468e-d62c-591ba4ba2853"
      },
      "execution_count": null,
      "outputs": [
        {
          "output_type": "stream",
          "name": "stdout",
          "text": [
            "1.Add\n",
            "2.Subtract\n",
            "3.Multiply\n",
            "4.Divide\n",
            "5.End\n",
            "Enter Your Choice:1\n",
            "\n",
            "Enter a Number:23\n",
            "\n",
            "Enter Another Number:23\n",
            "23\n",
            "46\n",
            "Ans:46\n",
            "Want To continue?\n",
            "1.Yes\n",
            "0.No\n",
            "Enter Your Reply:0\n",
            "\n",
            "1.Add\n",
            "2.Subtract\n",
            "3.Multiply\n",
            "4.Divide\n",
            "5.End\n",
            "Enter Your Choice:5\n",
            "\n",
            "Enter a Number:1\n",
            "\n",
            "Enter Another number:1\n",
            "1\n",
            "1\n",
            "Ans:1\n"
          ]
        },
        {
          "output_type": "execute_result",
          "data": {
            "text/plain": [
              ""
            ]
          },
          "metadata": {},
          "execution_count": 2
        }
      ]
    },
    {
      "cell_type": "markdown",
      "source": [
        "Output:\n",
        "![Screenshot (488).png](data:image/png;base64,iVBORw0KGgoAAAANSUhEUgAAAUAAAAJvCAYAAAAKggjUAAAAAXNSR0IArs4c6QAAAARnQU1BAACxjwv8YQUAAAAJcEhZcwAADsMAAA7DAcdvqGQAAAAhdEVYdENyZWF0aW9uIFRpbWUAMjAyMjowNTowMyAxMToxMzoxM9G96nkAAIHmSURBVHhe7f0LUFvZmif4/qvrNOqeSBTdB7gzIKJtq8aklMMc0aZ5OJpHdAKe4NE9iDOd4LgNmRNpMuOY9LTBDie2kzYujtNOBwZ3+MCJTJwzRpwpozNjQ90y4o6BM8WjxhjaJHjohMRzlbgDwcwAVT1S3pgWVbfqrrX3EugFaAspAev7ZWxLWtq5X0if1tpr7/X9XuIfpP4NAvFP/gf84//iGPB//A7PWi/hrw3/LU6c/hn+rnibW/2ff4GF/2lSvGIy/nukGd/G37I+wvOvborCLarT/zP+kSFavPK2jLlf/jP8+Q+n8R9fvYD/lM/27/4Ef9Z+XX77Jzfwn/7yv8B/zJ7+lfWP2PJb5HIvv5/7/8I/KkzAT9jzvxi/gm97nwLaL/Gzj1Lhd83u68A1/MGtf4r/hD1zzNzBy4cP5WIvge3HdsuKx9/7b/4E/1kCe+p4gT+78bFczAV8/Bbxv9b/V7DLxduIZ/P/EU6w+f8Wf/mX7P9pYf/PX0hvStRn/w3+83/AnrDt+DdsO5xS6SnEfvo53v777Olf/C/4sy/+G6mU8z//3mzu067LbED/t8mYfuc8Ru+1ozUvAdaeUhReXRHvh156cw+6ihIwZy5F6XXf9VQ9GMTV9Gg4bbMYnXiB0bFX0t8kpepTvG9Yx+N3ynFZnjUA5TCN1yEDL3Aj8yxMolRyw4zvjEfZ/maw/XW9jsHzm/mo6pJn4W4+eY4y7aLver3//wgmfRcC8rdU8qPTgb/mjzOfYXbke/zf0gv2ef3ut7C6Bz+k4qcZbyMKDiwO+n55+Rcr+h9sFzS4BPz91Hjx3I/Uo4gRT/9ieZj9m4rfj0uSC9z8/14swPUd/8nfFf+H9WO8rP9H+DN/02bwC9Qe92Nbux0/hZIa8bYIfn/1l+yfv30Ub5++ht+X3vQSHQMV/8XgfsJ+KN6Sn/61Y11+cqCswDKxIgWaWE2OXBQWxahOY79Sq8/Q6Sf4AUbk69jnwP4CzQUfouZqO7r7B2BhE6L45yMKKv4jF7ARrDnYgzoeKV7/X1EsX54T9jX5tYwtP1Y8lbAfPPGVJdsLPAAO/TMRIJpEwTI2LP8cU1fkwPHyv7uNvxLvSN75BEfYH+6vl/8X/J9WUeburVP4Ka9VMLxmthWE/gjL/AvKxL59Wn7ijn0hf/+dZiSVvC3V6nhN5n//0xfsSRJiP/ojGM5+ib/3szL83t9hRW+V4C1j6mag/P8u/6l4ptzv/SQevx9/ynOKSw1+Pzi+Lz9rxD9wfcD/yq2+s9vxU+InrBb9z+Ua71+zWtzUk++wwZ5H/YN/imO5J6VZPB3F0dN1+P2/k4q/+89P4T/523Lp/7X8TH4i/KVDbG/0Efy9JHYsgvV3Tm4e05+4Ai/7Qv/EdZz/vvhhq6xCtU5+6k6jiQb/rtsdr+QCxYrR8mQE331rganS/4+V5loFcuKApUkTekRZQLKakKfnT6IRmyeVuNlpvSsYtPIfnAQY6jLlIkk5Kgz8E/2a1UTlEsyvsx8AFTS6YlHAZJ2FQSOebyNKFcwP85sl8CawIvF466M/gUHrxOIf/VewvfTzi5n7P+Jk4VEWgR2w/rf/BCsLopz9v+qzf7LZtPqzG3+61QT24cT/3n8R/59h/sV0ayr78ddsWVNfsCaVR5TezVaz1S++fWMxAe7H8s7L8tiXAI4fs3PTG2x5/4gtz73p61reUfy07h70/w82018u49+2/DP8e1ZN3mzSssD9VyzobcYi7i+/w8z1/yd+cD9+m39Ddw78b1/9E/wfSoI2W84/ZsvZluu0hNR0i8eqdRYz8yoYiuJhG1qBJisZcWBNvY9YU8+9ERKoynZMXk6Fmj+3PsHbJa4feZdMtA38a+THzqL5H36IDlHqzdUEttteYGJmHU5W5TOwbVOzVpOaLdy7ibrrehNq0dtXAb2KfbZGn2HOwYJcWiZS4lSwT7Qg7QNXBKyC+ZsapLjm24iBIY2tl72jVq/4NoHTmjDUeQqJ9kWMjC2wvxjjmEX3dTMmpBkiR+A1QCXiL+Oolj3+xQv8n9t8ed96W3xx2BfQsRk0uBU4/t2y/JTVLPz567904v/6dy/wv371X4uAwf0p1nr+FIvLDvwHUfPi/vovHfiL7/4nTN1RGvwCs5f9kDnxH/5iEa/+h+tb+xLA8QuYe9P33z3FsrS8Z/jz3hfyB/9vJ0D/XzfzZ1v+wwvM/sl3cIjj+FeORfzbry56Bj9u+A5ezizjB7fjHVZd3XjMmrsqTSryi3jQi0FKHg8wC3h45XxwwY/rGsb0Kn/ihHWmTyrycKYa2aw2tTrxeNvgx5k++AydE8ti+06hOOsINoZuobJlgdXQoqFJPyHmFHZb73IrSs9147kN0Gaz5RXlIkW9AauFLXMz+HEm1LU8w5IzWp4vLwkbY624N8/r+X5MNqDRzLZJdRQ5fDv5VJgLP5XrN14YaoDx+LuV/yNO/GcqLPf8U3z/fI9f4Iizf8cvHJ0aYfOjncg/gZtPfo0yLQuy+ZVoFL9p5M0Qhhrgf86aLH+Kf/unD7BEwS8Ib8jx4z3tt/4N/vFO09lrYuYD7GfH4Zx/ir6Obgp+b6AwBMCn+L+Hr+Lf/79/xU8lEcXo+AXk+9ewWhdh/V68DpeXZjRebEBdq58mKjn0wtQJQg6jQ9UEJiQEKAASQiJWGJrAhBByOBzqAMhv9fluvB1V4vV2Ap2PEBJZggyA8dJFn999ywLLkwZRthe16OXLYtPYlwWijBBCwiuoAJh94y4upm9/B4Jitcng1/1ycbpiFInnhBASTooDoKayHS3Go4B1EdJF7CFQnX4cKixiZHSdRcAjKE4TbxBCSBgpDIDFaDyTCjUf8eKjWflWqj0rR/YxFWB7jY6xRdiRAF251y1DjOa9JvSPy83k774dwdCDWvkeSi+BzkcIIQoDYB+q73ej8+JZmEJ1VXzpSWhZhFqa78ZE1yysTiCRNYM9BrLIug1T4yloVcuYHnqKvqFXgMGIfFe72SXQ+QghhFF+DrCrFZ+PiechUFSYhDisw2qZYq/aMcNHEdEmodptDLTqmkwksvrm8xYjys81oO7ch8i7PuXTBA90PkII4YLqBAmdEyjWxgD2RYz2yyWd84vs3ySkbF6zIprI9gUMug8l1DsMq8cQyIHORwghsv0NgGlG6Fhb12lbwVphAasNFsAwvyLV2LSGs/I8LBjG8ZN4jnUMyQVCD2weI+IGOh8hhMj2NQBqSpNYkxVQ6UvQeueX8nT5JGsSszJdKqqluQghJDz2MQDGo1rHRwFeRt+Fz1DrNjVPrLMIeATZlXy+WazyJmx0DDxHFDdC45EDIdD5CCFEFuYAuFPOgwqk8FwJtlebyWNcU8cQvxwmGtosnuOgB6PfOwF1EvKlgCiU5kq9x1sCnY8QQmSKA6CxtgktzXw6KqeVjD4qXjfhQqk0y5bKYmRrebqaGGSUn5HLXMTdH3bbM988BF2vYGMPcTr5triOtnEssbVl1PXAfI+t697XGLp2Qmoquwt0PkII4RQHwPQ8kUNAysnAxCWL16eQ730Hxw45Dy5Id3/wcn85trphlSKgyKUxdgk1Us6DBKTw9ecdBybuo3PGa8S6QOcjhBCGxgMkhESsfe0FJoSQ/UQBkBASsSgAEkIiFgVAQkjEogBICIlYb1YAvGHGd98OwuR+IfSujkOnE08PpIO+fYQcXooCoO69BpieDOLlN64BR5/j5bgZHfWZYg7l+ACmvcNsmWJ5fBDTyWEzTNf4XSBhdqYdk9/+Bq2KAuaP6KBvHyGHnKIA+H5VCTK0wOr8M/RZ+ICjL7CKo8ipuo3+G76jOO+qsh29jaegV2/AOsqWx5c5+hpO9VFkpAWxPKWOxRzs0aIP+vYRcsgpCoBzY92ozc9H3unzqLvIBxw9i7yLw1iCCtqsKsXJjK6UprIv+DIGzxWh9GO2PL7MjyuR9Q//BZp7F8RchBASHooCoOlWKyzeQ+GPvYCNj8ISF49suSRA5dJYgLCv4LnPCNOv0HHfLJ4z25zbk/L9fmvGTfF6k+ZTmIf5IAxys3rySRMqNkeYLofJlTOEJ3ditEbxmk9e+YPl9J9sHQkFaHxo2WqqfzMIc72YKa0cbQ97MOl2aoC/399shO/pu3hUNHdhbHxr+74bt6CXzSunAVC2fYSQ4IWgEyQBat5Os69jTi4I0Cs4eFYldRKKzxyXi0IiGinlZdA6pqQm9eDMOlTaU7jyVQPSpfdfYbBfNLfZe9zqjHjNp/5hzEul7mKQ3tmA08cccq4RyzCe29imuzKD6nKRboiB0/YCg9Jy5Pe1RfXoelDult+E51PuwvWiJKidrzEi1jnC580qEMN4BbN9hJBg7Ple4Ox7PbiflwD7RAvSPnCrtQUgndXs7rNaDh8vxmlfxtzMLGtm96Cja0oaDWYTrwEaY/D8Zj6q3Ia75zXAMu0iHr9Tjsu8QJqP1ZpswzhTcAmj0lzxaHzUi9P6dYxcKEK1GHpfIua39mSg8Koo88JrgFd5DmT7C9woc08GFQ9Nwgps/HVaJrJt4xj1qB2fQMvAr1GsWUDnO5X4nBeV3sXY5ycRZ3vKtq9BbJ9Mk5UJzdi458g4AWwfISR4e6oBSjmCWfDjweHeFWXBj5u4Wo4a0zNY7U6o1AlIyT6F05d/jd99Y0bbe97jBwZuaabVLbisoFHKMxIDbd4eljnW5JUJTwQ/btI7+HFTmLbxKm6UPGwYIyeAAuaGPIMfZ/MOfoSQsAs+AGY14H5dKmvKsRrYHtJkjt46j8LMHLyd/wucbXmMkbl1OFVHkX/5Nq64ZYYLnAO2mRXxXJhfBz9NqY7NkV8r5meZHo6j+p7Z8xwgm6Saoxu9+i327zJsnklLCCH7JLgAmFAOU3MJtCqegvI8LociTebyFIbuf4Hqnxfh2igfEj8J2TXivQOu6sGvcTGPNeXXZjHY04lrYmj/zpnQpI4nhISH8gDIg9/jOmSoWfC7WYmqrp1qRsHpWfMXOKKg8sjtEQ8VP3noIxoag1dTVydfT2dfG5Ffh5QR+Tr5HGFzwYeoudq+OcQ/ongNkG23qMnO2X9g/yZA45m0hBCyT5QFwIQCtHxVIwe/ll8EEPx2ygnCak5nziLdp5kbjypNDHt0soAll8hNWBU0Ore7Q7LOwrDVveoh0VDrdklOPBql5EvrsA75394oVfDnBreV1YQ8nvOEBeRYEfAs/QtSyk99XpPPJUO8E0TupfYVlu0jhCjrBb7yaATv61WwW59hdN67lraC0Yvt8BjgvrIdk5f5xc6M9QneLmmSil3kXlwHlmZmMSN1GKgQqzuBDC2rOa0+Q33uebG8Kpi/qUEKa3JbR59hbiMGhrRkablq9YpPL7DTyXMNy9uo0qQi28AC6lw3Cn/e6tm7nNaEoc5TSLQvYmRsAdIeOWbRfd282SEh9wLDpwfanaun2G57gYkZfg4zAYYstn1Oh3SJ0Nb/K18Gw+d1ri7g+eSitM7oY6nI0CyiOfMsTHw2lwC2jxASPEU1wGjR5lRrT27mAdmacn1rMDvkBOEmhp5hmkWkOJ1rebksELDYN/cU1067gh9nQp2U6yMa2mw2X14SNsZacW9+Q7zvzoFp02NYo09Iy8zn1+dZn+Lzc17Bj5tsQKN5AXbVUeS49qMw18/FyzszffAZOieWpWCbz5eRdQQbQ7dQ2cKWzZvk6a7b+lbYvJW4ZuHrTNpcZw7bZ+ukn+v7QrR9hBD/KCcIISRiBX8ZDCGEHHIUAAkhEYsCICEkYlEAJIRELAqAhJCI9UYFQHnsPrf7cZ80iHd2EkjODaMYo8/P2IMKBLd9hJBwURYAz9xGP8/f4X7TvxjMU/G1afyiZWkZIzCfEWUSPoyUa9ntoiww80MDYty8WemOi10FnHMjSjzujeLtI4SElbIAeOwINFjH3IRrgM5hTDvegt5n4E8lVNDnuY1xnGbc9ha33Ux0fSEPq39RvsNiVwHn3DCjKjMDb7vuOAmS4u0jhISVsgB4tRw/yy1HuSt/x8VLKC/4AiOsOqNOL8MnYjYllqyLUOlyUS1ep5cnI9G5jCU+fhUhhIRRCM4BrmDD3x1pAdqYn4VVdRz5UjP4BCoMCXCyMp8RoZXkBNmRspwb8jpc0zbrkrbPgo7KT9G7metjBGMPP0WR0jENE9gy+P8/cNv31kLXe3TukJCQ2FMA1GUZceHLBmSzJqtzbhy/EuWKOO9j2iqawVLz14m5oVnxZjgoy7kxIeUAeSruad5JDDLqyqBZk3ORjMz9ALWhDLfu1So7NbD8BdsuJ6BJRnWhKBM0NSfAB5iZm7wvFxBC9iSoAOjqzfzjr+rxUXY0bD0teM97pJWAreBXM3Iz+IrU/GUBKqzf7ymYrosmvFU+E+ewupr0bPIaaaWnVS4Xs+5ItTaMuhI5ZWj1zz/E4zlWpi9Ao1cg203H0Cs4WUDVlxaIEi4enxh4jXUB0x2hH4ORkEgUVAAcavtDacTjZvMwpm1RrAlZg9YbmeJd5WxtcjPYmMWbv8PoEOWHzXa5SBKz5JKA3X+M56zGGacrhlEUIe0s0rWswjzzDI1Bph8ghHgKKgDaJkekEY87rvNOkEsYtKlYEPwULWliBqWW5WawWs2bvx4j4h0i2+ciidWUy68D1gcL+38Rl4SiUrlE6hxi9cK5IWWXBhFCtheCTpBx9Fn5ubQE1mSTS5RjzWBTN/os3eim01uSnl4+enQMUkp58JQ7h2CfRR8dH0JCJgQBMDRsv21FnfeI0h4CzQmyX7bPRbJmU54yFP0mTNgAtS4XVWkV0rWRqzN9niNGE0L2RFEAzM7yc54vwQgj+6LznBtLPtnhds4JEjCFOUGAWazytmd0DIrkgh0FknNjTkrUFAX1Ds387XKR+B6XQLZvCt0zyywCJqOs/jhr/q5jrtd3VG1CSPAUjQgt5fCIXcb0zCzkFB4x0KelQsuqOfaJFpR+YPbsCd4pJ4jI32HtyUDhVVG2iV+rV4cMvMDbmWfZ6wBzgriR83REsVrTOKtJOVmJn5wlSnJunPkaL+uSWTVsFqOTy+BLtI014E4ve+InF4mU50O/TS4SJqDt49f9DZZJl77ANozKgkuUC4SQEFJUA5ybX8ASvzyD5+Xg+SnyUuVb4yy3UOkd/LhdcoIETklOEJnpShv6rBuIM+TK2+ovZ4mSnBv3P8PnlkU445LlvB9syveoDTowbX4MW6yc3yRH/xbsM49R7y8XCRPQ9i2bMD0nP12a76bgR0iIUU6QUJBqgDE7Zo4LVvXDEVw0rKPvfSPqJkUhISQkDkwnCPGDNYGLDSrAOoU7FPwICTkKgAdQeuWnaGlugqmzGHo4Md3bFORdNoSQnVAAPIB0eQXSeUGeI3lptA11dO0fIWFB5wAJIRGLaoCEkIh1yAJgaHJzbAluedIYgV7jBhJCDp89BUBNfRde7jRQ6I7cBiZ1Td8Mov9BAyq2TTASmtwcW0K9PELIYRJ8AEw4i5byJOz5dlznIkakwUiH8dy2AU16Ca4/ZAHV7xBSocnNsSXUyyOEHCZBB8Cqz8uQ4nyB51ZRECznOkalwUgvoaqkCIU3X0h3ZpTVN/jeGUEIISEUXADMuo3306MwF4br02xd96VRUKA9gffdbjXbNTeHW74MnzESSu9ijL338uHWWbuAcn0wmvea0L/ZVB/B0INa/5nkEoxoeWTB5OYyBzH2qAkVSnOCEEJ+NEEEwBO4WZ+LRNs47twKx9DsU6wpzIclSIDWbXzBXXNzuO6b1Sah2ivoFBUmIY7fq2vZGkwqoFwfLNCbGk9Bq1rGNJ9/6BVgMCJfK953SSiH6XE9ivVRsE8MS8sdnHBApT+FK181uI0QQwg5SBQHQE19LYq1Djw3XXIb/j20hqShp4Do2K2cGLvn5lhBx8sF9piElGr34a0K5OG67AsYdLtPN5BcH9U1mUhkgfN5ixHl59j85z5E3vUpn6TmxmvvI0PtxHRHJfI+uCQtt+YDI+qGlqHSFuATj8TvhJCDQlkAZDWdm6VJwFwfLof4pn93Nqc8yotK9VPpMVC2jlnwSqD+Z1VbzeDCYujjWPybH1Y4mGg5so+pfAIneodh9chZXIAiKcDOoq/Vs0Y8annNgqUKmjT35EaEkINCUQCUazqL6LsVbAa4wKSr5ctTnM4/lx4D5moG65M3m8FFLGDz5u/ckNJRmdn/x0/2OdYxJBcIPbCtiaeSZMSxAAt1Kq5unv8T052TbN3KAzkh5McReABMa8In2TGwzwxjlDVNiwrlSS1dBxMFNX+ddVyada900dHSo2NtQHoM3AoaJ92bwaL5uzqLnjDWWCW2YSlTnr+pvm1EzEQIOUgCD4Aiv4Xa8D5a7/xyc8qX2poJyOev6yv4iz06gQwND4DLsPLRlpW6NbXVDBbN39X5gR1yjWxna9j6PLlAMELjkZuEzcdPCka/hdj+ASlbnvc0NEl5fAk5iAIPgEP3Ue+ndjMotYWXMchf3+qWZt2iPCeI7kwN0nlQtU6h088YeLvn5mjFhGgGX5Gav+uY699+NOrtl9eD0e+dLOInIb9SFHGluVIKgC0syPEUlupknPaXG1nHasY75BEhhOyfPY8GI+UJ0S76zcuxY04QV94P1SJGhng+DhVidclI0cZA5WTLO8eW55NMiNkpN4dLfRe+q0qSn68+Q33u+e1rgDstL+s2hr7KRaJzGdNjs7Cxmq6BNfMTeTo6+wvcyDwrd6xIl8GwfVE7sTo3hYnveVDl+8Nqs1qEZaRoQsjeKesFViqQnCCb+ThyWdM3CraJJ7h2epvgx+2am4MRzWBu1+bvTssbu4QaKRdJAlLy2Ht5x4GJ++ic4WHSzbIZVWW38HBmHSqtnBOE709K7AasE8MYnBfzEUIOFBoPkBASscJbAySEkAOMAiAhJGJRACSERCwKgISQiEUBkBASsSIiAFIOD0KIP8oug3G/sNmDI7iLfW+Y8Z3xqHjhy9qTgcKr4sUeSBdrx7pduEwIIUxQNcDVGXkw0a1pYE8X+/ouT54G/dwKRwghoRJUDXAtRDUzVw0wVDW97VANkBDiz+E4B8gD5beDMFUa0fJkcHO8vcmBu6jyGv4+4BwehJCIF1QA1BpdAYZN4z0w1fsZBSXkoqCvqUU2ZqXm8YjVAbXmJC7ecevaCDSHByGEMAoD4AbWrC8waG5D7YU2PBxdwKoqARlVt9F/44SYRzmPgLo5eWdqU0Ft60NpyXkp50Z1SStGVlnpsczN3t1Ac3gQQginLAB2nUdhyVnUXDfB0m9C48eVyLr+TMp7oc2qglHMptTSkO84g7UXWtEp3nexzn/hNhR/H6Sh/NQx0EuvA83hQQghsr2fA+z9Qs7jG3fEd1iqAG3YfUdRtvSPw7Nj2YHVHXuaA83hQQghshB0gqzAKQ2PF41onVRACCGHQggC4AmRGMkBx74O/BloDg9CCJEpCIDx0Ol883poKs/IOTxWX/u5cFl5TpDgBZrDgxBCZAouhJZzeKQ4FzH9cgFrLNaoYpOQnn4UaulWuEpUdXllP9sxJwgjLoTmd4JI5xG92Gd60Ng1JeaL8bndzicfSaA5PAghhFFQA/xz2L5fh1N9FBk8PwbPnZHOanWrC+hr/IVv8OMCyQnCxBnk5flMPAeHEoHm8CCEEIZyghBCIlYIOkEIIeRwogBICIlYFAAJIRGLAiAhJGJRACSERKwDFACPQ0e30u2vzXEXxeuQMcIkjdHoPcIPIftLWQCUviDew1ZtTf03xHxKnWnH5Le/QWvIv3jBy77XI+3T2JfFosRNwlmYv2H7/I3SJCj7S/deE3qHtwaU5QPGTj65iwtBDmIRuCjxeFDFo+qBOC5PGkQZiQRB1QBDnsPjWMyBG7V59Fw3ntuBuOwKNHqNOm28VoIUFR/Gq02UHHzp9V3oajwFvXoDc6Py32tk7geotMkwhL3mbUZVZgbedt2xc8Bk37iLi+nR4hWJJEEFQIe1QRqU1Hu60ytmeCOYcbl3AU4kofjzclHGpDXgo+wY9ivwDL+6OC4KD7iEWlwpT4LauYDO00Uo/Vj+e1X/vAg/+6gDgxE8XJimsh0tPDOhdZEGzo1A4TkHGFAOD35vsWiKidSYnkPte+XxTWDLemRhTWXXPIMYe9SECq/amdyUMeNmQgEaH1rw0jX/N4Mw14uZAmS71YZRG6BOr0BbllxWXVcALQuL071foEcukmXVwjTg1rxk6+tvNsKjcrXNOTYpb7HX+bFQ7kd6XQ70vMY61orPvUfsGTPD1C+eb/L8u730k3sloP1l5H1zTTudA4xHRXMXxsb54Bli/nELetky+VgbmwL8HMiK0TLAlzeC/hv+0jYUo/FMKtT2F2j+aBZ8fF0SWcLYCbJbDo9XGOwXzeeZdanEo2ndP7w1IGoCC5aP61Gsj4J9Ylh6f3DCAZX+FK581cDW4S0G6Z0NOH3MIecGsQzjOQ9kils546hp4yNeJyC7thaarNuoMLBIYh3AnVa3e59ZDav3XgUy2DfVKjUvhzFtj4K2qB5dD9xqj4qFZj+MOh4dHLCNTskFO/L9u6m8c68o2N8JabufinvCt8PPwXXhehGvpb7GiPgMjLB91WYVbA1vpvRz8G4u0jV8rDYVtIYCucxDH6rvd6Pz4lmYlkURiSjK7gWWRmXZLpG526gsrvnmHuPdn7uGsS9Gx/C/Qo7Kz6gsYv7t0mMav7TgVvZbmO4oR7lb4OEdFffzYjDdkoPy+3IZrzld5edz+OgvZe4f7HhoElZgU/xBj8eFh2Z8ZPgBS7a3kKhZx+BHRtSMibeZIrZ9raxZvGT5l8jbbBbLo+dkqBfwML8SjXy90n4GMKoNE7r94D2w9Ww7PJfvV4B/t4D3142/fdxUehdjn59EnO0pzhQ0YFQUc5qsTGjGxjHBniv5HMgy2Xpvs/WyXeo5j9KrO/0ANKD/2xJo/Y1aRN5YQdUAQ5PDI1AFKNLFsEDAaiTutS5m1PJaykeiSfP9dV8aa/L6VQ8m+HEruNMyACurjSWy2oR9otsj+PGAlK9l28d+ACZa3M8JmtEt1WyPQL+HSuDe90N5D+zOf7fQ729RYRLi2OPckGfw42wi+AX3ORjH5ZIcvP1Ozi7Bj0SqoAJgaHJ4BCoZcfzboU7F1c3zPmK6w2oN7C2V6qfSnFtYc2/G80uyJ5NNmLbyJw72JTVLRVtyEMubpPZ1zHkFJosUOVRQBz0idSj2Y0M8Bmq3v1vo91evfov9uwybZzIXL8F8DgjZWRjPAYaYbdhPrVOe6ttGxEzElyspVAw070kFhxt9DkgIHYIAOItVfgI9+i3E+tQ65WloMoS1PcVGRBMxHilePZFFUlXJCbvHZSZRUHnUkOJZzUU8DZOe73lVLRqa7OBzN29Rur+7m7P/wP5NgMYzmYuXYD4H/Byg3Avcu4e81eTNdaACYJTKX94Q9uGeX2dfuGSc9ncpg64ARWG/k2EnKxi08nNfCTDUuW9fOSoM/FzZa8y5Ws1sP+z8XJXO7e6SrLMweFznEXoTpinwFnxiVi2ueF+nkpCJbEXHT8H+upmTomYU1H7WZelfkK7B0+c1+fTk8k6QdOlZEJ+Dd8uQrZV7gfUGP3f0kIgXVC9wyHJ4uKQ1YajzFBLtixgZWwD/qsAxi+7rZvkEuHT5A+9hdGJ1bgoT38vnmmJ1J5Chhcd65N5Tz7JQkLed5z7xs1x+WUhfBfQqB6yjzzDn4CfkM5ESxztNWpD2gSsiVMH8TQ1SXPNtxMCQlizdBaNWr/jpBQ7dfmSzv0kb+9upnOuYm3gBKzuEck6XGMy51hHo3y3g/XVz5mu8rEsGVmcxOrnM6om8g8N18bx8GQzv9XauLuD55KL0GYg+looMzSKaXVcNKPgcyPh1gJ+imF+u03MJhVd9L1w31rKgK/0AJSC9KBlxbPv62PZxW9tH3lRB1QBDlsPDZbIBjeYF2FVHkeNaVmHu1kW1y2ZUld3Cw5l1qLQnxfpykRK7AevEMAZD0tmyB8utKOW3zrEfBW222DY12zbLLVR6BAMT6qScJdHyfHlJ2Bhrxb15pR0Vyo1eLcd7jU9ZczMKemkbRU4X6yxmlB6/gPfXzf3P8LllEc64ZOSLv/FWIv0VmD6oxDUL/wwkbX4GcnjgmnS7HlTx56APdQVyL7C/4Meli/w2xTz48QK2ffJr9+0jbyrKCUIIiViHpxeYEEJCjAIgISRiUQAkhEQsCoCEkIhFAZAQErEoABJCIhYFQEJIxKIASAiJWBQACSERiwIgISRiUQAkhEQsCoCEkIhFAZAQErEoABJCIhYFQEJIxKIASAiJWBQACSERiwIgISRiUQAkhEQsCoCEkIhFAZAQErEoABJCIhYFQEJIxKIASAiJWBQACSER6wAFwOPQ6cRTElo3zPju20GYKsVrQohEWQCUvkjPt536b4j5lDrTjslvf4PWN/oLWg7TuHycXj6sEmWCOK5BH783RjyqHgzKn6cnDaJsi+69BpieDOLlN1ufuZfjZnTUZ4o5CFEmqBrg6sxT9Fl8p8FJMYNSx2KgFk8jgcpQgMYE8YJsyr5xFxfTo8UrX+9XlSBDyz5/88/kz9zQC6ziKHKqbrMfjxNiLkICF1QAdFgbUHfRd7rTK2Yg23M64UQSsuvoC+tOU9mOFuNRwLrIgpp/c2PdqM3PR97p8/Jn7txZ5F0cxhJU0GZVoUjMR0igwnMOcPOckxEtrMniaq5MDtxF1WbNZ6tJ+B3/4DNa41bT5rvxdng0FBPYsh5ZWFPZNc8gxh41ocKrJiU3ocy4mcBqWQ8teOma/5tBmOvFTIFKK0fbwx5MujW5+HL6m40I+nSlcxbP54DEtCoYRZGPbc7Z3XzCt4Htm/SqAf1se4YetmNM2rYRVgsysnlG5O0c/xpX0qQZt2g+hXlYvM+mySe+xy88x7kYLQN8vXwb/TVXi9F4JhVq+ws0fzQLhyj1ZrrVCsuyeOEy9gI2O3uMi0e2XEJIwMLYCRIFfU0t+1DOSs2VEasDas1JXLzjCmuvMNgvms8z61KJR9O6fxjzUimTwILl43oU66NgnxiW3h+ccEClP4UrXzX4+eDHIL2zAaePOTA9xJc3jOc2QL1968o/XS7SDTFw2l5gUNoueTnaonp0PSiHRsym1OjLBfaFPYGKM6JgDxKPRWPG8gxWJ6sFGeuRjynWNFyAXZ2MojMFYi4uGinlZdA62Pv8+LFjrtLKxy9dzBG24/wuO44aFXvCtpE1/331ofp+NzovnoXJO8DtKgFqfv7Evg72u0KIIkEFQI+a2ubkqpm4qKC29aG0RG6uVJe0YoS1bVTHMkXNbgqm66L5zIIj59G0vm7GhFQKGK+9jwy1E9Mdlcj74JL0fs0HRtQNLbMvcQE+8Qkk0UiMnsWNsnJUnePLu4SqkkqcaRNvB2rehLr8HGSVnEWNtF18OZfQx7/k6SV4X8ym2PUBTLOAlVJYKwqCZ59/zLbtPB7O8GPowJyJHe9zTzDHakVxGs/almptGHXi71Fz+kM8ZhFDpT2J6kL5/bAd5989xqjVyZ44MTfTJ5d562rF52PiuQLZ93KgZ4/2+WGY5CJCAhZUAFwa+gy1F7ynVnSK912s81+AxQqhD2v8O6qOkT6wgStAkS6GfcJZTbJ1RZTJRi2vscoCrSbNt1axNNbkVZtYgU1p7WJyHKM+/88Upm18R6LY1z9YJnRPsFqv/sSeO0PWbD3yo3OD/bsO22/5q1dw+GlHLs20YlQ858ejcX6RPcZAmxfPHsN5nMdxuSQHb7+Tg9KrU6Js76TzhnnsALKm870rZlFKSOCCCoAb9gFY+r2n8a0mq8SBVc+CICUjLo49qFNx1bvWeeck+Fsq1U+lObc4YJvx/BIH5ziq75k9zwGy6eoOPZWB6rn/Aksh7AyxSL8uLlOw8wqXBz/HZH4d/PSZOjaH/bufxzkIWQ24X5cKtXMRj4NqOhMS1nOAIWYb9lPrlKf6thExU2hVPfg1LuYdZU3HWQz2dOKaWF+n1Nzco8l2jO7WGbIf9uE4K8bPVTaXQKty4HnLeVwOoulMCHcIAuAsVvl1EdFvIdan1ilPQ5PhqIUYka9jNT3eM1nwIWqutqNbrA9RvAYYBdWemq+sCTo2CyfvDNGKIg9s+bHiqSSe1cDE06BEQ2PgTV03rMkr9R+s8cAWzuOcKXqnR9C71+v1pI6aOmSoWfC7WYmqrn2qgZI3woEKgFEqry+ohH35WFMN6mSc9ncJha4ARd6Xe4RTVhPypJOY0YjNk0qC1zqMOd4ZYpAvA9okNU1V0OiKRQGTdRaGYLudhUQD75V3iUejjq93HdYhHkTCeJzfLUO2Vu4F1hvc9kmphAK0fFUjB7+WX1DwI3sWVACM1jahpdl3aqwM8te9dwFL7CEx6y46XMu7Vr55eUbP9U48t/PLPG5j7NFdsb7b0m1R3z3+FBVhuYe4B4PzrKmrTsW5gXa08XXe+xpD905BbQ9BE1giOkO8dY2Dd5rGZdei/0u+3nYMNeey9fqc2FPEGZuLlify8Wt7+DXKWCB3zg2gsV9+P2zH+XfDmLDJvcDWGVaD9sNYy9fFp6Ny51L0UfG6CRdKpVlw5V4DilkgtVtnsaar2nxfns4erFMJ5FAIKgDGGU6huMjPlHdczKHQZAMazQuwq44ix7Wswtyti42Xzagqu4WH0rVrJ8X6cpESuwHrxDALVGK+EDN98Bk6J5ah0qQin68z6wg2hm6hsoVtK29Spu+9A0PuDPFmQl3LMyw5o6HN5sc1CRtjrbg3z3t6g+XAtOkxrNEnpOOXz69vtD7F5+dat3rqw3ac+1BXIPcCF14dF2We0vP4uviULHW4IC5ZvGbbKmqe0eIcgHpz29yn3K3rGQkJ0O8l/kHq34jnhBASUQ5PLzAhhIQYBUBCSMSiAEgIiVgUAAkhEYsCICEkYlEAJIRELAqAhJCIRQGQEBKxKAASQiIWBUBCSMSiAEgIiVgUAAkhEYsCICEkYlEAJIRELAqAhJCIRQGQEBKxKAASQiIWBUBCSMSiAEgIiVgUAAkhEYsCICEkYlEAJIRELAqAhJCIRQGQEBKxKAASQiLWAQqAx6HTiafEzQ7H5YYZ3307CFOleE1kdFxIgJQFQOmD9Xzbqf+GmE+pM+2Y/PY3aD2wH9ha9Ip9HPuyQJT9CA78cdlJOUzj8jF7+bBKlAnicxT05+WQ073XANOTQbz8Zuu783LcjI76TDGHcOY2+oc95/tu3ILeZiOorhAaQdUAV2eeos/iOw1OihmUOhYDtXh6INUmQyuexumKUSSeh91BPy4BUhkK0JggXhC8X1WCDPaBWp1/Jn93hl5gFUeRU8UC3o0TYi7m2BFosI65Cdd3bBjTjregL6pH14Ny9h7Zq6ACoMPagLqLvtOdXjHDG6Y6/ThUWMTI6DqLgEdQnCbeILtzOuFEErLr3L7YEW5urBu1+fnIO31e/u6cO4u8i8NYYp8ybVbV1g/s1XL8LLcc5R+7vmOXUF7wBUZWAXV6GT4Rs5Hghecc4OY5GCNaWFXfVX2fHLiLqs2awFYT6TvjUalEaxSvpap+OzwaTglsWY8srEnommcQY4+aUOFVs6h6wNdnxs0EVut4aMFL1/zfDMJcL2ZSpBzZx1SA7TU6xhZhRwJ05V5f5oD2V8iqhWlgax6+Xf0eTRqFx0Xiud6X/ta7X8fPOYvnc0BiWhXbym1sc87u5hO+brYt0qsG9LPtGHrYjjFpm0ZYbcnI5hmRt2/8a1zx/mHSfArzsHifTZNPfPc3PMelGC0DfL18G72atYzpVissy+KFy9gL2OzsMS4e2XLJNlawsSGekj0LYydIFPQ1teyPOStV30esDqg1J3Hxjuvr+wqD/aJqP8NqVoxH07p/GPNSKZPAgsLjehTro2CfGJbeH5xwQKU/hStfNfj5wMQgvbMBp485MD3ElzeM5zb2qxkt3lai9CS0rB26NN+Nia5ZWJ3sy8yawb7Nj932l0moRe+9CmSw/9k6Km/XtD0KWtGkkSk4LhLf9ap81ruPx48ZfbnAvtgnUHFGFOxB4rFozFiesb8Dqy0Z65GPKdaEXIBdnYyiM+7nZ6ORUl4GrYO9z/eXHUuVVt7fdDFH2I7Lu7lI17AfTV6jY83/wCRAzc932FmTVy7wocsy4sKXbLvY58c5N45fiXISvJ+IR0WkGonPz/kiHr9TjsviFf/jq22P8e7PvwD7jDDF6Bj+V8g5lslqMCb23xRM19nE32I1gGJDjNy0virN7MF47X1kqJ2Y7qhEeeuKKAWy7/Xgfl4BPjnThNH7olASjcToF7hRdhamzV/aeGi8f/0DUFSYhDisY8QyxV5NYcb6PlL0Sahmy2r0+BXfbX/Zsq4VQM++F0uWz1B4cVyaS67x1SEjvQSNCWa2zMCPi2z39e7n8ZNcH8B0aQ1SCmuB+62iMDj2+ceoudgj1ciuskg2Z2LNyN+KY6jhta0BeUZGtTaMmpJLGJVexaPxUS9O60+iuhCY6A/jcfndY4xaM1GmZds30ycKd5Z9Lwd69mifH5b/9m7kfXVFWQesPS2ovWoWf2+yF0HVAJeGPkPtBe+pFZ3ifRfrvOtLyfVhzcEe1DHSHzpwBSjSxbBPBqvhuH1IuVHLa6yyAKBJ8/2VXRprcvuQciuwebwOxAkUa/m6FzHKvjBc5/wi+zcJKb7t0F32Nx75fFnsh2KixRX8ODO6pZreEehdlUCFdl7vfh4/FxO6J9g+6k/suTNkzdYjPzp5O3Adtt/yV6/g4PvsZWmmVQQ/bgWN0t8uBtq8ePYYzuMyjsslOXj7nRyUXuU/nDvTVLajJY8dGPsL3LtiFqVbhtr+UPqONZtZi8HGWgzGGrT6aVoT5YIKgBv2AVj6vadxr6aZA6ueBUFKRlwce1Cn4urmeRox3TnJamfsl171U2nOLQ7YZjw/1EFJM0LHmxu2FawVsi8MmwzzK+zLwWrBhrPyPJt2298cxPIfcd7E8frCWKSIxWpysfJrZXZb7z4ePzc9919gKYSdIfIxc5mC3SmebvKzD/Pr4KfZ1LE57N+DcVyQ1YD7dalQO1kL6qJ7zXKLbXJE+o51XOedIJcwaOPN/0/RQp1xexbGc4AhZhv2qnFuTfVtI2Km0NKUJiGRPar0JWi980t5uiy+HLpUVEtzHRL7cPw8TLZjdLfOkP2wn8eFn4NsLoFW5cDzlvO4PCbKdzSOPitvMSRAXyqXkOAdggA4i1Ve5Yp+C7E+tU55GpoM8a+yJB7VOt4Lu4w+ry9GM2/OqY4gW9EFyiOiaRqPFK9mYJFUNXTCvia/Dq39On7eWBN0bBZO3hniuqjSQxRUHjXgeFYDE0+DEg2NgTd13bAmr9TPsMYDWziPS6bonR5Br/t1fe6kDpg6ZKhZ8LtZiaquH+NvQLwdqAAYpfL6wErYh5E1XaBOxml/5z10rGkalqZABVL4STTbK3R7fTE6hvjlMNHQZhXLswZkBYPil9tQ574f5agw8HODrzHne/pH4v+4BGq/jp8frcOYc6qQYpAv79kkNU1V0OjcjmfWWRj2eKVvooH3jrvEo1H6QVuHdYgHmzAel3fLkK2Ve4H1Bj+fkYQCtHxVIwe/ll9sG/yys/xsV4IRRn7uku3HUkA1RrKToHqBo7VNaGkWL9zYZ3rQ2LX7SV8fvQtYMh5FYtZddDQvQDq745hF93UzJtjTnuudMPJfS+NtjOmmMPG9fM4sVndCuqL++U32YQ72LpTtiLs/7LZn0jZ46HoF2+VU6NmXhHc6BMpyfQAf9VVAX/RL9Ec/w5yDn2jPRAqrltgnnnj1KjO7HJdA7cvx84t3hrAflmz+BXbTNQ5rXSorr0X/l5mY24iBIS0Zan5ibw+3wjhjc9Hy5C5G5/mlQanIZj9ozrkBNIoOrbAdl98NY8KWiWJ+udPMVq+0y5V7DShmAdJuncKarsrru7SC0Yvt4F09RfX/GvdjlzE9MwubtGkx0KelSpdl2Sc6N/eDBC+oGmCc4RSKi/xMecfFHApNNqDRvAC76ihyXMsqzN26OHjZjKqyW3goXct1UqwvFymxG7BODGMwJJ0tni5Id3842QdY7nX01A0r73aNOyK/DNRyK0rPdUvXjmmzxT6o2T5YbqHyAz/Vv92OS6D24fhtR+4M8WZCXcszLDlZrZofl7wkbIy14t78Xq74dWDa9BjW6BPS/uazWrbT+hSfn2vd6jEP23HpQ12B3AtceNW9x18WLdr26s11uk+5m9cpzs2zH0CwoCd9VtiUlyrfGic+L1s9/yRYv5f4B6l/I54TQkhEOTy9wIQQEmIUAAkhEYsCICEkYlEAJIRELAqAhJCIRQGQEBKxFF0Gw3MZXKnKRYomevM2Jad9Ec97W1F9y+16J57LoPIENOqt+aRBAMY6UH+xx2vQBEII2R+KAiAfobdM68DSzCxm+KXpKn7FfioS1U5Ye86j0DX0zw0zXmbJF3JKV7BDBY0hkwVOFewTLSilizgJIQeAogBYVV+LNZPXcN5ZtzH0VS4SV5+hNvc8LKLYlxioM8574FRCCNkfis4BUi4DQsibJASdIJTLgBByOO05AO6Wy4CPsPvHX9Xjo+xo2Hpa8N7P3W5GJ4SQffT76p8mNIrnivFcBv9d1dtQ2V+g+aPbmJE6PLas2RYxPTaC2X//+/iP/v4R6NPTkZEwh//+d77jgRBCyI8t+NFgshrQf68EWp4N7lx5AMN5Z6Jt4F8jX7OMvveNqPtRxp8jhJDtBdcEplwGhJA3gPIASLkMCCFvCGUBkHIZEELeIIrOAV55NIL39TyXwTMpz4KnrVwG0h0j2+YyoDtBCCEHQxC3wokXPrbu8Khq7sL7WUcQp1bBdSuw074OK90LTAg5QILvBSaEkEMuBHeCEELI4UQBkBASsSgAEkIiFgVAQkjEogBICIlYFAAJIRFL2WUwgeb6qGzH5OVU8GECPfHb5/JR1SVeEkLIPlIWAAPN9SECoHPmKSY8bvn4AdPmL2CikWAIIQdACC6E9pPrQwTAtZ4MFF6VZiKEkAMnBOcAKdcHIeRw2lMA3C3Xh9b4XBoSX5rGe2Cq9zNKDCGE7JOgmsA818fV9GjxygFrTwdqr5rdOkHuor88CtbJcfRNAOmlBchPT0Kcyit/MCGE7KOgAqAmLQeGWBU06SywZfFOELDAdokFtnExhx+ldzH2+UnErT5Dfe55adgsQgjZTyHoBAk010c8WgZ6UczmG2Tz1VBPMCFkn4WgEyTQXB8rcDr5YzSidVIBIYTsqx/xTpATUEsXTzvgoBFRCSEHgKIAGFiuj3jodPH8iQdN5Rmka9iT1dcYpOYvIeQAUHQOMLBcH+UwjdchxbmI6ZcLWGPNXlVsEtLTj0It3QpHmeQIIQeDogAYWK6PAtx8WIt8ViuUm7ycE3ZW8xtt+0PU/faVKCOEkP0Vgl5gQgg5nH7EThBCCDlYKAASQiIWBUBCSMSiAEgIiVgUAAkhEYsCICEkYgV5GUwter+tgJ49Wx39DFkfD8jF+41ylhBCFAiuBlibDK14GqcrRpF4vu+OHYEGLOBNPEWfhU/DmHa8BX1RPboelLP3PK3OuOZzTQMYpPuUCYkYQdUAqx+O4KJhBSOj0cjJdh7w4a0oZwkhxL8gaoDlyD7G2pe21+gYW4QdCdCVnxDvCTfM+O7bQZgqjWh5Mrg5LP7kwF1UJYh5XLJqYRoYxEvX0PnfjmBy2IyWSvG+h2K0DIxI8/TfCHR4fcpZQgjxT3kALD0pDX6wNN+Nia5ZWJ1AImsGezcvgSjoa2qRjVmpeTlidUCtOYmLd6rE+1w5TM0VyGD/s21UNENHX8GuOgq9vzED381Fuoaf3FNBayiQy3ZAOUsIITtRHACLCpMQh3VYLTyvRztmrOxBm4Rq75odC1JqWx9KS86j7mIDqktaMbLKSo9lYjMEvpcLvTSSTAcKP26Q5qv7+EPkZZbiTJuYx93vHmOUR1w4MTfTJ5f5wXOW8KD2x1/V46PsaNh6WvDez1vlnMWSDaxZX2DQ3IbaC214OLqAVVUCMqpus5qlV22WEPLGUhgAT6BYG8Mi1iJG++WSzvlF9m8SUtwrdoJ1/gu3oNOHNT6EljpG6j2WfP8Da0KzIk0yjB41vhXYlsVTD+O4XJKDt9/JQekOiZWG2v6QBbbP0GwexrQtitX0atDq3mTuOo/CkrOouW6Cpd+Exo8rkXX9GVZ5zTKrCkYxGyHkzaYsAKYZoePNSdsK1goLWG2wAIb5FRY4WCXQcFaeZ5MDq7v1qE62onNiHdCcwq3Hz/Fy3IL+R+24+d5xMUNwbJMjLLANoOP6JZQXXMKgjQU246doSRMz+NP7BSZ4tI47gvyd5iOEvDEUBUBNaRIS2aNKX4LWO7+Up8snWZOYlelSUS3NpcQKTB8U4b/8iDVDh17A6mC1NX0qyhq/VtDJsRvKWUII8U9BAIxHte4oe1xGH2te8iama2rmtTjVEWT77bnd3fwYa4aeO4vSgny8/dFTLElN0Qo/1xdm4uYTuRe4N+Tn6ihnCSGRRkEArEAKP3lne4Vu1rzkTUzX1DHEL4eJZkGrWJ41UAnxvr3HY7Ow8ROD/rxbhmyt3AusN/iui3KWEEKUCDwAirs/7LZnmJBLtnS9kjo74nS7X5riIa8Bvd8OYuhRO9qam9DSfBvmgRpk8MtsXnbDImbb9LthTNjkXmDrjO/td0X1/1q6nMX8JV8Wm+61o/9xPXJYG90+0YlGqeMmB1ce9OLlsBmme/J8bQ/M6JVujXPg+f0vKGk7IREi4AB4If04q3fxwOMvPHTDKjoQFJmfxbR1A2ptKvKLTqG4KBcp0T9gznILVefGxUzu+lBXIPcCF171fX9ufoE1n2Ogz+bLYlNeqnxrHFtepZSwiftz2L5fh1N9FBl58nz56axGuLqAvsZfUMImQiII5QQhhEQsRb3AhBDyJqEASAiJWBQACSERiwIgISRiUQAkhESsQxgAj0NHt6rtQSDHzwjTOB8mzIybooSQN1HAAbCXj5k3cBvp4rUPPsoymyeszvB1/AatQd5yx9184jYG4LbToJj7DRPw8YsSjwdNPIpqb6N32H0A3UEMPahFkc9wbITsLuAAaOe3p0W/hW0rD7oYP0mGQuzY3tcxMeSeA+QppvlQNvwCb9eArNJ0QJI8hVrAx8+MqswMvO1KIXBgnMG56lxosYLn0t9pmP39opCYXoFbHgPtEhKYgAOgbY394z6Wn5ei2Gj2Lx/w72DraRUDr4rJKm3yBlbH3Mu/kOYlB80CHrf8C/wstxLV0t/pEspP92DO6TXQLiEBCjgAzkmjmUYjtpC/OoG2AbkJ0lvPXwOxKt5s4sNOMWnlaHvYg8lvXM0UNn0ziP5mo2cNMqDcIeXifBSbjHw0Gu+h7NvD+8EXOUs21+dvPxSJR0VzF8bG+ag2rn2woJct02NgiEDWG4bj53mKYJtzgIHmfNmcT7wW5HV4LTuBLeuRRTqNIi9vEGOPmlDh0bQ1o+P+K/HchX3u+PgYzg3w32hClAg4AJpsPLhFQRXLX+VCI76tscfkARD0vAZoFwFQl4t0QwycthcYFE2V5zb2xfObnnK33CGvMNgvmqYz8vI90ln2D2/l+w21hFr03pNzlshNZNbkskdt7ody8ah60IXrRUlQO19jROzDCD82WQXIE3MpW29oj5/rFIF8amAngeR8CVACC9KP61Gsj4J9Ylha3uCEAyr9KVz5qoGtYxvs/+t4WMxaJfIgFj6DZxCyi8DvBXZPJTnDnjcmwbkajTjHE7xdMstqGfXIcAzj7YJLrAaYiWzbOEY9hrU/gZaBX6NYs4DOdyrxOS/iNQReK5l7jHd/7ho+X6SxVL3AjcyzMEllgpjfGsJ0lrw2Uqb1nxC96EsLWrNjsGT5l8i76Bp8gdeo6pChXsDD/Eo0+h26fxuldzH2+UnE2Z7iTEEDRkUxp8nKhGZsXBppJ+D1hvH4ycfFLZWou0DXK80X43NsvZdtZPt7K/stTHeUo7x1azCK7Hs9uJ8Xg+mWHJTfF4UuUtDkx8OBadNnKL/lb/AMQnYWcA0QQ+tS/o5YjRFgtTs1VjD6kn0LY1mthtVsVKwZ4lzj+UGYSe/gx01h2sab0VGsIe1p19wh+yIe+Tz/CRYx0eL+5TKjW6pJHYFeYSVQTijF4saQZ/DjbCL4BbPe/Tp+oVlvAYr4eI12VpN0C37cqOW1lKdFk+Y7zFr1HT5sGv/hqqTgR4IWeABcXsEaP9msYgFPwz6wthX0TKzAro5HSgILiCwA2u2u8zPHUX3P7HkOkE1X071DHxdA7pB9kQOpX4c16+e8grlF+qaroJZOBwROr36L/bsM25D82j+l692v4xeq9SYjjv8qqFNx1e2zIk13RLoF1U+lObcY5dzU9gUM0vBlZA8CD4B4JV0Ko4o+igxNtDwwKvvwrSEGmsvx4N9Jx5p8+UjVg1/jYt5RqNZmMdjTiWti6PzOGf4FJsQP27BHmgX3qb5tRMzk8lo+rxnO878kIigIgAP4nnezxR6HjkU72zwfGHUcS6usiaKLl0ZTXp3h8xmRr+MdIi/QXPAhaq62bw6hjyhetYmCyqNn76AaEU06XsOVS1zkS36csCvsdpyz/8D+TYBms7fDn9Cvd3+5Os5c5NMlW2axyjtcot9CrFuaBfdpaNK7ljcF0/UG1F03+45OTogCCgIgYHWwb6Y6AYkqVzNuAKPfOxCn4d/Uddh+y8u2kdWEPOnkUDRidwwAu4tizfDwW8GgyCZnqHPPNVKOCgM/R/cac2a5JFCW/gUphag+r8mnZ5N3gsh32YR+vd4COX7yZU9RUO8lReg8P2/MfyDd8rdknYXB4zIAFuTYfFAn47S/TIC6AhT5bEM52gYG8XK43fOyG0IUUhQAu6VLYRj7Cp6LxEHy5TEMP2clPenB4DwPlKk4NyByfdz7GkP3TkFt51+qPejlQ94DiVl30SHlEGHTtfLtb8/bI8v1Aeki28SiX6JfyjNyG+ZhOWeJfeKJsh5grvcLfDXBjoHmFNqGuzb3oeORBf3NVZvX+IV8vS4Kjp9p7DWrayYgu/lrka+lCRd2TCvqR9c4rGw/4rJr5f24146h5lz2OWCFbnqud+K5neduvo2xR3fl7WL7bOLXGD7+FBXeF11W5iJdEw1VXCpO14gyQoKgKADKv+jM2srW5RVjcmJ0ONbhOrdv+uAzdE4sQ6URuT6yjmBj6BYqWxak7HGa9CBTWk42oNHMlqE6ihwphwibCnP3cFHyLpZbUXquW76GUcozkosU9QasIseIcjwPciWuWfg+JG3uQw6/3m/S7XxWyNcrKDl+9z/D55ZFOOOSRb6WU0EkjDehruUZlpzR8n7kJWFjrBX35jfE+8KyGVVlt/BwZh0q7Ul5u/g+x7J9nhhmP6hiPpehYczxD6JzEdO9chEhwaCcIISQiKWsBkgIIW8QCoCEkIhFAZAQErEoABJCIhYFQEJIxKIASAiJWEEGQD6unRgI80mDKFOGD3XE//+xL93uEnBJOAszH0jhG6/xqQghJISCCoDZN+7iot+RXQI3yi/0tfO7BCrQ6HU7k/FaCVJUwNJQmyghhJDQUxwANZXtaOGDYVoX5TtAgmbG5d4FOJGE4s/dBrhLa8BH2THA6jP8anMwUEIICT2FAbAYjWdSoeYjvXw0iz3e2QvbrTaM2gB1egXasuSy6roCaFlYnO79Any8mU0B5YxgRC6NrbSJI5gcNqNlD6k0CSFvJoUBsA/V97vRefEsTMHekO9hHDVtz1hNMgHZtbXQZN1GhYG1fa0DuOM+OnDAOSPYfM1yLg2bK83l6Cvp3ld92G4YJoQcVnu4F7gB/d+WQGvlOUGaRFkw4nHhoRkfGX7Aku0tJGrWMfiRETVj4m0m4JwR7/FcJanARAvSPAYNiIcmYQW2kARtQsibIshe4FBawZ2WAVgRw4KfitXwuj2Cn6KcEd//II1Wo9Ykw+hR46PgRwjxdQACIDPZhGkrf+LA3JD3cE8KckZMtqJzYl0ab+/W4+d4OW5B/6N23HzvuPw+IYS4OQBNYNn26Slr0fttBfQ8ZwSrKfrjXJv1GDZdl1WFivJMpOiSoNfIw8hbey6h8Cr1KhNCthyMGuCOlOeMmB8zofHcWZQW5OPtj55iiTWTtVkVKBLvE0IIF+YAWIyWJyOsuWqBqTLYPB4syAWaMyIhHh7pJrixWdikYawJIcST4iawsbYJ2VKUSUB6UTLiVmfRNyn3MNjGGnDHfYjyynZMXk6Fmj/fpam8fROYkS6DqUOG2onVuSlMfM+vQFQhVncCGVps/T/S+pJgn1vA/PfrrOGrgsbAmsIaFZaG/iXyzlETmBCyRXENMD1P5JLgwY8XxCWL135yRnQNY1q6XcQJ60yfVBSUQHNGzM9i2roBtVbkIuHzRP+AOcstVFHwI4R4oZwghJCIdQg6QQghJDwoABJCIhYFQEJIxKIASAiJWBQACSERiwIgISRiKQ+AfGDSJ24Djo73wFTv5w6NXZXDNC4v4+XDKlEm3DBL5f03xGtCCAkDhQEwEy2d9SjWRsE+wwcmfQYrEpBRdRu99cHe6gaoDAU+eUEIISTclAXA+hrkawDnTDfKT19C3cXzKDz3hAVBFfSFn8IoZlPE6ZTygmTXnRAFhBDy41AUAC8YjrBQ58C0pR22M19jcqAJ6ZNNGJ1jb8YloahQnk8R5yyes/8/Ma1q5wAqcn1sjgX4zSD6m42gke4JIcFSEABPQBurYo/rsHUBFVlHoNYkSUFrem2d/RuDRJHYSKnRlwssgJ5AxRlR4C2hFr335FwfVinXxzCm7VHQFtWj64FbRjlCCFFAQQA8jmg+tqh9HbzCp1FFsX9joHkPsKztMT/c9QFMO1VIKawVBZ6KrhVAz/MEWz5D4ccNrOl9CeW5bVJeYXV6CZ0/JIQERdk5QDerzg3xLBRM6OZD2etP+Alm8cjXxrDHRUy0uI/oYkb3DK95HoGeKoGEkCAEHQDXpADImsO/lV/vVc/9F1jy2xmSg1hXzdMrsZFc81RBHSu/JoQQJRQEwFdw8HijjoGePVgmV2BffY1R9rxIilB7NNkudabs2hlCCCEhoiAATsG65mSPMdBUsof7HyIt9xIs7GlKLG+irmPJI52lUitoHJuFk3eGaEWRZARSRU8djxSv5rEceJ2wr8mvCSFECUVN4Dszr1m4iUZK0dmt3BtpDcjmVcLVBVj65aItCnOCtA5jjneGGI6KAm4Fg1Z+ri8Bhjr3O07KUWHggfc15rwzaRJCSACUnQO81YZBG79zowLmh7fR0nwX/fdKoGVhca7/C/SI2TZVFiNbyy+diUFG+XbXuLgTnSFeLNcHWGBkzeOiX6L/yya23tswD9cgQw3YJ56gkZKeE0KCoCwAYhx1799CH8+7YchFcdFJFvyW8dx0CaW3PFNTSoLICSJ3hnhZbkXpuW48Z8FXmy1yfag3YLXcQuUHVP0jhASHcoIQQiKWwhogIYS8OSgAEkIiFgVAQkjEogBICIlYFAAJIRHrAAXA49DR4H5vlKoHbuM38ulJg3iHkINBWQAUuTq2m4LO4XGmHZPf/gat/Ba7AyL7Xo+0T2NfFosSNwlnYf6G7fM3XaLgINvKveI+vRy3oDfMA8rODw2gz8LHb5yFdDnojylkuWvImyyoGuDqDP9Q+06Dk2IGpY7FQC2eHhSj/MJrOxCXXeEzRJfxWglS+PiEQ22i5DBYx7TrbzX0AjbEQC8GlN28rTHEJrq+QN1FPn7jIvY4YqRC4cldQ948QQVAh5V/qH2nO71ihjeCGZd7F6R8JcWfuw04mNaAj7Jj2K/AM/zqovv4hAedA1bX3+rcWRSWPZYGtlWnl+ETeYY3Rzhy15A3UnjOAUpN5UGYKuVmiKvZNTlwF1WbtSm3pplRHvxAaxSvpSZLOzySZfImzSMLayq75hnE2KMmVHjVzuTzTmbcTChA40PLVhPom0GY68VMAbLdasOojQeJCrSJ4f6r6wqke5+ne73ufQ4kZ8nmcRGvhZtP+P/Dtlm85kK5H34tf4E5K38iRvdxCeQ4S/thQUflp+gd54Nd8PlGMPbwUxR5/T12lcCWwf//gdtIF0WbXO/5nDssRssAX+8I+m/4NmvDkruGvJHC2AkSBX1NLbIxKzW7RqwOqDUncfGOK6y9wmC/aJJJIzt7Na37hzEvlTIJLFg+Zk0aPWvSTPAmDWtuTzig0p/Cla8a2Dq8xSC9swGnj7EvwRBf3rB0H7Fa8bCF46hpe4ZV1nzKrq2FJus2Kgys7WsdwJ1Wt3ufw5azJFT74Q9r+koDya7DNiQVKDzOMcioK4NmbUqab2TuB6gNZbh1jx0nMUdAWCDum3ECmmRUewUmTc0JaezJucn7coHLu7lI1/BBNlTQGgrksk3hy11D3jxBBUCPmtrm5FmDkUZqtvWhtOS81OyqLmnFyCorPZYpanZTMF0XTTIWHDmPpvV1MyakUn7O7X1kqFmtq6MSeR/wJk0Daj4wom5oGSptAT7xGWgmGonRs7hRVo6qc3x5l1BVUokzwZyy4zU99gVV6QtgupaJRCxj8FbT5rZx4ctZEsL9cKPLMrJaZbU0mo5zbhy/EqPpKD3OqrVh1Ln+vj//EI9ZDYsfp0aFNayOoVesTh0Dfal7MIvHJ9KwaAtse7wG2vjdY4xa+diUTsz5DLIRxtw15I0TVABcGvoMtRe8p1Z0ivddrPNfgFVYhD4xsKk8onTgClCki2EfaFaTdK91MaOW16x2poImzbsWwLZxrAkmj2GyVmALatisFdxpGYCV1xxYrcM+0Y0aj4Ffw5uzJHT7cRRl4sfqj7+qx2ndBqZ7buG9n7eKv5Hy47w00yqNCC5bQeP8InsMooZ1/zGesx/HOF3x1vm5tLNI1/LzeM/8DHc2jsslOXj7nRyUXp0SZf6FNncNedMEFQA37AOw9HtP41tNVokDq54FQUpGXBx7UKfiqkeNk013ToK/pVL9VJpziwO2GT/DcwVrsgnT0vkyB+aGvIffCmfOklDuB6u5Sj9UbXg4ugi7KgYpWSfdfoyUHmc/2za/DlbpRaxGacTvg4X9v9L5uVK5JL08mdW2WQ1vqF0uCFKoc9eQN0tQAXBf2Ia9apxbU33biJiJbG8DdumHyoTGj8ulZi3icvHJPa9OhH06zj29C6yWyYJyKQ+eJ1BhSJBro16n/3YX5tw15I1yCALgLFb5VbTRbyHWp9YpT0PsQ75/lOYsiYLKo0YYz2pW4umPaPRcD6b5KNtZ1aiWSpQe52hoDF7X1LEmNL+ec80WxCC1LDBP8A4eXS6q0ipg0PBOsT6YxNueMnFTSrUwgt4b3lkEw527hrxJDlQAjFL5u0iVffl480idjNN+LnmArgBFaeL5vlCQs0RqIqqg0bndXZJ1Vvqy//hE+gFVMiqaeRBRfpwTDbyX3yUejTreaeEvwLDgytvG0TEokgv8mEL3DKuVsvWX1R9nzd91zPV6d3AI75aJVAsq6A2+d+ooz11DIlVQATBay/Ny+E6Nld6/xgFizR8+DH5i1l10uJZ3rXzzurCe6514bldBa7yNsUd3xfpuw8SvMXz8KSr2+R7igHOWdI2Dd17GZdfK891rx1BzLtR2XmP58fVcH5Z6SnkqUvm1suPsjM1FyxN5vo5HX6OMBRjn3AAafQJMDwbnWTU57gSuSLlk+HLP+lyQzDuR5nhQ07OqtG0WHdsFqt8Ns9oiP2Y81cKAXOZOae4aErGCCoBxBp6Xw8+Ud1zModBkAxrNC7CrjiLHtazC3K2LiJfNqCq7hYcz61BpT4r15bImzQasE8PsyyXm2y8B5ywxoa7lGZac0fJ8eUnYGGvFvfl96ql0XYMXd1K8VnKcHZg2P4YtVp4vR/8W7DOPUX/O1avsyXSlTcolEyflkpGX63Ph87IJ0zwiM0vz3R6XGnnqQ12B3AtceNXf3TgKc9eQiEU5QYhy/E4QYwye38xHVYjHg6h+OIKLhnX0vW9EXbD3lhMSoMPTC0zefAmfoli602YKdyj4kR8BBUCy79IrP5XOC5o6i6EHv8+6yW8zmpBQowBI9p0ur0A6L8jvpV4abUOd4mv/CAkOnQMkhEQsqgESQiIWBUBCSMSiAEgIiVgUAAkhEYsCICEkYlEAJIRELAqAhJCIRQGQEBKxKAASQiIWBUBCSMSiAEgIiVgUAAkhEYsCICEkYlEAJIRELAqAhJCIRQGQEBKxKAASQiIWBUBCSMSiAEgIiVgUAAkhEYsCICEkYh3qAHjzyXN8N96OKvF6O4HORwiJLEEGwHhUPRjEd9+ywPKkQZTtRS16+bLYNPZlgSgjhJDwCioAZt+4i4vp0eJVCNQmQyuexumKUSSeE0JIOCkOgJrKdrQYjwLWRayKsr2qTj8OFRYxMrrOIuARFKeJNwghJIwUBsBiNJ5Jhdr+As0fzcIhSvemHNnHVIDtNTrGFmFHAnTlJ8R7WzTvNaF/XG4mf/ftCIYe1EIt3nMX6HyEEKIwAPah+n43Oi+ehWlZFO1V6UloWYRamu/GRNcsrE4gkTWDNeJtSdZtmBpPQataxvTQU/QNvQIMRuS72s0ugc5HCCGM8nOAXa34fEw8D4GiwiTEYR1WyxR71Y4ZK3vQJqE6QXpbUl2TiURW33zeYkT5uQbUnfsQedenfJrggc5HCCFcUJ0goXMCxdoYwL6I0X65pHN+kf2bhJTNa1ZEE9m+gMEuUcT1DsNqF88lgc5HCCGy/Q2AaUboWFvXaVvBWmEBqw0WwDC/ItXYtIaz8jwsGMbxk3iOdQzJBUIPbGviqSTQ+QghRLavAVBTmsSarIBKX4LWO7+Up8snWZOYlelSUS3NRQgh4bGPATAe1bqj7HEZfRc+Q63b1DyxziLgEWRX8vlmscqbsNExyOMvNxmhiRVPJYHORwghsjAHwGK0PBnBd99aYKqMF2UuFUjRswfbK3T3D8DiNnUM8cthoqHNKmYz9GD0eyegTkK+FBCF0lyp93hLoPMRQohMcQA01jahpZlPR1mIYqKPitdNuFAqzbKlshjZWhV7EoOM8jNymYu4+8Nue4YJuWRL1yvY2EOcTr4trqNtHEtsbRl1PTDfY+u69zWGrp2QmsruAp2PEEI4xQEwPe8Uiov4lCwHlrhk8foU8r3v4OgaxrR0DYoT1pk+qcjlgnT3By/vESXuumGVIuAR+eXYJdS0PMOSMwEpfP15x4GJ++icYTU+d4HORwghzO8l/kHq34jnhBASUfa1F5gQQvYTBUBCSMSiAEgIiVgUAAkhEYsCICEkYr1ZAfCGGd99OwiT+4XQuzoOnU48PZAO+vYRcngpCoC69xpgejKIl9+4Bhx9jpfjZnTUZ4o5lOMDmPYOs2WK5fFBTCeHzTBd43eBhNmZdkx++xu0KgqYP6KDvn2EHHKKAuD7VSXI0AKr88/QZ+EDjr7AKo4ip+o2+m/4juK8q8p29Daegl69AesoWx5f5uhrONVHkZEWxPKUOhZzsEeLPujbR8ghpygAzo11ozY/H3mnz6PuIh9w9CzyLg5jCSpos6oUJzO6UprKvuDLGDxXhNKP2fL4Mj+uRNY//Bdo7l0QcxFCSHgoCoCmW62weA+FP/YCNj4KS1w8suWSAJVLYwHCvoLnPiNMv0LHfbN4zmxzbk/K9/utGTfF602aT2Ee5oMwyM3qySdNqNgcYbocJlfOEJ7cidEaxWs+eeUPltN/snUkFKDxoWWrqf7NIMz1Yqa0crQ97MGk26kB/n5/sxG+p+/iUdHchbHxre37btyCXjavnAZA2fYRQoIXgk6QBKh5O82+jjm5IECv4OBZldRJKD5zXC4KiWiklJdB65iSmtSDM+tQaU/hylcNSJfef4XBftHcZu9xqzPiNZ/6hzEvlbqLQXpnA04fc8i5RizDeG5jm+7KDKrLRbohBk7bCwxKy5Hf1xbVo+tBuVt+E55PuQvXi5Kgdr7GiFjnCJ83q0AM4xXM9hFCgrHne4Gz7/Xgfl4C7BMtSPvArdYWgHRWs7vPajl8vBinfRlzM7Osmd2Djq4paTSYTbwGaIzB85v5qHIb7p7XAMu0i3j8Tjku8wJpPlZrsg3jTMEljEpzxaPxUS9O69cxcqEI1WLofYmY39qTgcKroswLrwFe5TmQ7S9wo8w9GVQ8NAkrsPHXaZnIto1j1KN2fAItA79GsWYBne9U4nNeVHoXY5+fRJztKdu+BrF9Mk1WJjRj454j4wSwfYSQ4O2pBijlCGbBjweHe1eUBT9u4mo5akzPYLU7oVInICX7FE5f/jV+940Zbe95jx8YuKWZVrfgsoJGKc9IDLR5e1jmWJNXJjwR/LhJ7+DHTWHaxqu4UfKwYYycAAqYG/IMfpzNO/gRQsIu+ACY1YD7damsKcdqYHtIkzl66zwKM3Pwdv4vcLblMUbm1uFUHUX+5du44pYZLnAO2GZWxHNhfh38NKU6Nkd+rZifZXo4jup7Zs9zgGySao5u9Oq32L/LsHkmLSGE7JPgAmBCOUzNJdCqeArK87gcijSZy1MYuv8Fqn9ehGujfEj8JGTXiPcOuKoHv8bFPNaUX5vFYE8nromh/TtnQpM6nhASHsoDIA9+j+uQoWbB72Ylqrp2qhkFp2fNX+CIgsojt0c8VPzkoY9oaAxeTV2dfD2dfW1Efh1SRuTr5HOEzQUfouZq++YQ/4jiNUC23aImO2f/gf2bAI1n0hJCyD5RFgATCtDyVY0c/Fp+EUDw2yknCKs5nTmLdJ9mbjyqNDHs0ckCllwiN2FV0Ojc7g7JOgvDVveqh0RDrdslOfFolJIvrcM65H97o1TBnxvcVlYT8njOExaQY0XAs/QvSCk/9XlNPpcM8U4QuZfaV1i2jxCirBf4yqMRvK9XwW59htF571raCkYvtsNjgPvKdkxe5hc7M9YneLukSSp2kXtxHViamcWM1GGgQqzuBDK0rOa0+gz1uefF8qpg/qYGKazJbR19hrmNGBjSkqXlqtUrPr3ATifPNSxvo0qTimwDC6hz3Sj8eatn73JaE4Y6TyHRvoiRsQVIe+SYRfd182aHhNwLDJ8eaHeunmK77QUmZvg5zAQYstj2OR3SJUJb/698GQyf17m6gOeTi9I6o4+lIkOziObMszDx2VwC2D5CSPAU1QCjRZtTrT25mQdka8r1rcHskBOEmxh6hmkWkeJ0ruXlskDAYt/cU1w77Qp+nAl1Uq6PaGiz2Xx5SdgYa8W9+Q3xvjsHpk2PYY0+IS0zn1+fZ32Kz895BT9usgGN5gXYVUeR49qPwlw/Fy/vzPTBZ+icWJaCbT5fRtYRbAzdQmULWzZvkqe7butbYfNW4pqFrzNpc505bJ+tk36u7wvR9hFC/KOcIISQiBX8ZTCEEHLIUQAkhEQsCoCEkIhFAZAQErEoABJCItYbFQDlsfvc7sd90iDe2UkgOTeMYow+P2MPKhDc9hFCwkVZADxzG/08f4f7Tf9iME/F16bxi5alZYzAfEaUSfgwUq5lt4uywMwPDYhx82alOy52FXDOjSjxuDeKt48QElbKAuCxI9BgHXMTrgE6hzHteAt6n4E/lVBBn+c2xnGacdtb3HYz0fWFPKz+RfkOi10FnHPDjKrMDLztuuMkSIq3jxASVsoC4NVy/Cy3HOWu/B0XL6G84AuMsOqMOr0Mn4jZlFiyLkKly0W1eJ1enoxE5zKW+PhVhBASRiE4B7iCDX93pAVoY34WVtVx5EvN4BOoMCTAycp8RoRWkhNkR8pybsjrcE3brEvaPgs6Kj9F72aujxGMPfwURUrHNExgy+D//8Bt31sLXe/RuUNCQmJPAVCXZcSFLxuQzZqszrlx/EqUK+K8j2mraAZLzV8n5oZmxZvhoCznxoSUA+SpuKd5JzHIqCuDZk3ORTIy9wPUhjLculer7NTA8hdsu5yAJhnVhaJM0NScAB9gZm7yvlxACNmToAKgqzfzj7+qx0fZ0bD1tOA975FWAraCX83IzeArUvOXBaiwfr+nYLoumvBW+Uycw+pq0rPJa6SVnla5XMy6I9XaMOpK5JSh1T//EI/nWJm+AI1egWw3HUOv4GQBVV9aIEq4eHxi4DXWBUx3hH4MRkIiUVABcKjtD6URj5vNw5i2RbEmZA1ab2SKd5WztcnNYGMWb/4Oo0OUHzbb5SJJzJJLAnb/MZ6zGmecrhhGUYS0s0jXsgrzzDM0Bpl+gBDiKagAaJsckUY87rjOO0EuYdCmYkHwU7SkiRmUWpabwWo1b/56jIh3iGyfiyRWUy6/DlgfLOz/RVwSikrlEqlziNUL54aUXRpECNleCDpBxtFn5efSEliTTS5RjjWDTd3os3Sjm05vSXp6+ejRMUgp5cFT7hyCfRZ9dHwICZkQBMDQsP22FXXeI0p7CDQnyH7ZPhfJmk15ylD0mzBhA9S6XFSlVUjXRq7O9HmOGE0I2RNFATA7y895vgQjjOyLznNuLPlkh9s5J0jAFOYEAWaxytue0TEokgt2FEjOjTkpUVMU1Ds087fLReJ7XALZvil0zyyzCJiMsvrjrPm7jrle31G1CSHBUzQitJTDI3YZ0zOzkFN4xECflgotq+bYJ1pQ+oHZsyd4p5wgIn+HtScDhVdF2SZ+rV4dMvACb2eeZa8DzAniRs7TEcVqTeOsJuVkJX5ylijJuXHma7ysS2bVsFmMTi6DL9E21oA7veyJn1wkUp4P/Ta5SJiAto9f9zdYJl36AtswKgsuUS4QQkJIUQ1wbn4BS/zyDJ6Xg+enyEuVb42z3EKld/DjdskJEjglOUFkpitt6LNuIM6QK2+rv5wlSnJu3P8Mn1sW4YxLlvN+sCnfozbowLT5MWyxcn6THP1bsM88Rr2/XCRMQNu3bML0nPx0ab6bgh8hIUY5QUJBqgHG7Jg5LljVD0dw0bCOvveNqJsUhYSQkDgwnSDED9YELjaoAOsU7lDwIyTkKAAeQOmVn6KluQmmzmLo4cR0b1OQd9kQQnZCAfAA0uUVSOcFeY7kpdE21NG1f4SEBZ0DJIRELKoBEkIi1iELgKHJzbEluOVJYwR6jRtICDl89hQANfVdeLnTQKE7chuY1DV9M4j+Bw2o2DbBSGhyc2wJ9fIIIYdJ8AEw4SxaypOw59txnYsYkQYjHcZz2wY06SW4/pAFVL9DSIUmN8eWUC+PEHKYBB0Aqz4vQ4rzBZ5bRUGwnOsYlQYjvYSqkiIU3nwh3ZlRVt/ge2cEIYSEUHABMOs23k+PwlwYrk+zdd2XRkGB9gTed7vVbNfcHG75MnzGSCi9izH23suHW2ftAsr1wWjea0L/ZlN9BEMPav1nkkswouWRBZObyxzE2KMmVCjNCUII+dEEEQBP4GZ9LhJt47hzKxxDs0+xpjAfliABWrfxBXfNzeG6b1abhGqvoFNUmIQ4fq+uZWswqYByfbBAb2o8Ba1qGdN8/qFXgMGIfK143yWhHKbH9SjWR8E+MSwtd3DCAZX+FK581eA2Qgwh5CBRHAA19bUo1jrw3HTJbfj30BqShp4ComO3cmLsnptjBR0vF9hjElKq3Ye3KpCH67IvYNDtPt1Acn1U12QikQXO5y1GlJ9j85/7EHnXp3ySmhuvvY8MtRPTHZXI++CStNyaD4yoG1qGSluATzwSvxNCDgplAZDVdG6WJgFzfbgc4pv+3dmc8igvKtVPpcdA2TpmwSuB+p9VbTWDC4uhj2Pxb35Y4WCi5cg+pvIJnOgdhtUjZ3EBiqQAO4u+Vs8a8ajlNQuWKmjS3JMbEUIOCkUBUK7pLKLvVrAZ4AKTrpYvT3E6/1x6DJirGaxP3mwGF7GAzZu/c0NKR2Vm/x8/2edYx5BcIPTAtiaeSpIRxwIs1Km4unn+T0x3TrJ1Kw/khJAfR+ABMK0Jn2THwD4zjFHWNC0qlCe1dB1MFNT8ddZxada90kVHS4+OtQHpMXAraJx0bwaL5u/qLHrCWGOV2IalTHn+pvq2ETETIeQgCTwAivwWasP7aL3zy80pX2prJiCfv66v4C/26AQyNDwALsPKR1tW6tbUVjNYNH9X5wd2yDWyna1h6/PkAsEIjUduEjYfPykY/RZi+wekbHne09Ak5fEl5CAKPAAO3Ue9n9rNoNQWXsYgf32rW5p1i/KcILozNUjnQdU6hU4/Y+DtnpujFROiGXxFav6uY65/+9Got19eD0a/d7KIn4T8SlHEleZKKQC2sCDHU1iqk3HaX25kHasZ75BHhBCyf/Y8GoyUJ0S76Dcvx445QVx5P1SLGBni+ThUiNUlI0UbA5WTLe8cW55PMiFmp9wcLvVd+K4qSX6++gz1uee3rwHutLys2xj6KheJzmVMj83Cxmq6BtbMT+Tp6OwvcCPzrNyxIl0Gw/ZF7cTq3BQmvudBle8Pq81qEZaRogkhe6esF1ipQHKCbObjyGVN3yjYJp7g2ultgh+3a24ORjSDuV2bvzstb+wSaqRcJAlIyWPv5R0HJu6jc4aHSTfLZlSV3cLDmXWotHJOEL4/KbEbsE4MY3BezEcIOVBoPEBCSMQKbw2QEEIOMAqAhJCIRQGQEBKxKAASQiIWBUBCSMSKiABIOTwIIf4ouwzG/cJmD47gLva9YcZ3xqPihS9rTwYKr4oXeyBdrB3rduEyIYQwQdUAV2fkwUS3poE9Xezruzx5GvRzKxwhhIRKUDXAtRDVzFw1wFDV9LZDNUBCiD+H4xwgD5TfDsJUaUTLk8HN8fYmB+6iymv4+4BzeBBCIl5QAVBrdAUYNo33wFTvZxSUkIuCvqYW2ZiVmscjVgfUmpO4eMetayPQHB6EEMIoDIAbWLO+wKC5DbUX2vBwdAGrqgRkVN1G/40TYh7lPALq5uSdqU0Fta0PpSXnpZwb1SWtGFllpccyN3t3A83hQQghnLIA2HUehSVnUXPdBEu/CY0fVyLr+jMp74U2qwpGMZtSS0O+4wzWXmhFp3jfxTr/hdtQ/H2QhvJTx0AvvQ40hwchhMj2fg6w9ws5j2/cEd9hqQK0YfcdRdnSPw7PjmUHVnfsaQ40hwchhMhC0AmyAqc0PF40onVSASGEHAohCIAnRGIkBxz7OvBnoDk8CCFEpiAAxkOn883roak8I+fwWH3t58Jl5TlBghdoDg9CCJEpuBBazuGR4lzE9MsFrLFYo4pNQnr6UailW+EqUdXllf1sx5wgjLgQmt8JIp1H9GKf6UFj15SYL8bndjuffCSB5vAghBBGQQ3wz2H7fh1O9VFk8PwYPHdGOqvVrS6gr/EXvsGPCyQnCBNnkJfnM/EcHEoEmsODEEIYyglCCIlYIegEIYSQw4kCICEkYlEAJIRELAqAhJCIRQGQEBKxDlAAPA4d3Uq3vzbHXRSvQ8YIkzRGo/cIP4TsL2UBUPqCeA9btTX13xDzKXWmHZPf/gatIf/iBS/7Xo+0T2NfFosSNwlnYf6G7fM3SpOg7C/de03oHd4aUJYPGDv55C4uBDmIReCixOMBwy/U3zwW7lM4fgTIQRRUDTDkOTyOxRy4UZtHz3XjuR2Iy65Ao9eo08ZrJUhR8WG82kTJwZde34WuxlPQqzcwNyr/vUbmfoBKmwxD2GveZlRlZuBt1x07B0yoc9yQw0PZhdDi1rWQ5/AI13L3SMOCRn9VEpwTLUj7wCwXpjWgv7ME2tVnqM89jx659GBLqEVvXwX0WEDn6Up87v7lzipHVbQZpn72fJtbDt9Yoc5xQw6d8JwD3DyXtFMOD35vsWhyiNSYnkPte+XxTWDLemRxa7IMYuxREyq8amdVD/j6zLiZUIDGhxa8dM3/zSDM9WKmANlutWHUBqjTK9CWJZdV1xVACyeme7/wDH5ZtTANuDUv2fr6m43wqFxtHhfxWpDyFnudHwvlfqTX5UDPa6xjrZ7BjxsTwc+D59/tpZ/cKwHtLyPvm2va6RxgPCqauzA2zgfPEPOPW9DLlsnH2tgU4OdAVoyWAb68EfTf+DHSNpDDJoydILvl8HiFwX7R5JhZl0o8miL9w1sDoiawYPm4HsX6KNgnhqX3ByccUOlP4cpXDWwd3mKQ3tmA08cccm4QyzCe80AWLd4O2Dhq2viI1wnIrq2FJus2KgwsklgHcKfV7d5nXsO6V4EM9k21Ss3LYUzbo6AtqkfXg3IxUzBCsx9GHY8ODthGp+SCHfn+3VTeuVcU7O+EtN1PxT3h24lnAb8L14uSoHa+xoj4DIywfdVmFWwNb6b0c/BuLtI1fKw2FbSGArnMj/3JcUMOgqCawP65jcrimm/uMd79uWsY+2J0DP8r5Kj8jMoi5t+uCWz80oJb2W9huqMc5W6Bh3dU3M+LwXRLDsrvy2W85nQ1nUUIPvpLGVvPslzOv2SahBXYNl8HKh4XHprxkeEHLNneQqJmHYMfGVEzJt5mitj2tWbHYMnyL5F3cVyUyqPnZKgX8DC/Eo18vdJ+BjCqDRO6/eA9sPVsOzyX71eAf7eA99eNv33cVHoXY5+fRJztKc4UNGBUFHOarExoxsYxwZ4r+RzIMtl6b7P1sl3qOY/Sq14/AJV30V8eBevkOPrYCtJLC5CfnoQ4lZN9Fs+zz2IgPxjkMAuqBhiaHB6BKkCRLoYFAlYjca91MaOW11I+Ek2a76/70liTW9Dgggl+3ArutAzAympjiaw2YZ/o9gh+PCDla9n2sR+AiRZXMODM6JZqtkeg30MlcO/7obwHdue/W+j3t6iQBR32ODfkGfw4mwh+wX0OxnG5JAdvv5PjG/y4MOW4IYdHUAEwNDk8ApWMOP7tUKfi6uZ5HzHdYbUG9pZK9VNpzi2suTfj+SXZk8kmTFv5Ewf7korOkE05iOVNUvs65rwCk0WKHCqogx6ROhT7sSEeA7Xb3y30+6tXv8X+XYbNM5mLl2A+B0EIQY4bcniE8RxgiNmG/dQ65am+bUTMRHy5kkLFQPOeVHC4hf1zQDluIskhCICzWOUn0KPfQqxPrVOehiZDWNtTbEQ0EeOR4tUTWSRVlZywe2Sli4LKo4YUz2ou4mmY9HzPq2rR0GQHn7t5i9L93d2c/Qf2bwI0nslcvATzOeDnAOVe4N6A81YflBw35MdwoAJglMpf3hD24Z5fZ1+4ZJz2dymDrgBF+9pUWcGglZ/7SoChzn37ylFh4OfKXmPO1Wpm+2Hn56p0bneXZJ2FweM6j9CbME2Bt+ATs2pxxbtWk5CJbEXHT8H+upmTomYU1H7WZelfAI9t+rwmn55c3gmSLj0L4nPwbhmytXIvsN7gfUdPMDluyJsmqF7gkOXwcElrwlDnKSTaFzEytsB+exnHLLqvm+UT4NLlD7yH0YnVuSlMfC+fa4rVnUCGFh7rkXtPPctCQd52nvvEz3JdFxqrHLCOPsOcg5+Qz0RKHO80cbuIGlUwf1ODFNd8GzEwpCVLd8Go1St+eoFDtx/Z7G/Sxv52Kuc65iZewMoOoZzTJQZzrnUE+ncLeH/dnPkaL+uSWWCZxejkMqsn8g6OBtzp5W/Kl8HwXm/n6gKeTy5Kn4HoY6nI0Cyi2XXVgILPgYxfB/gpivnlOj2XUHjVvdNG7rVWlOOGvHGCqgGGLIeHy2QDGs0LsKuOIse1rMLcrYtql82oKruFhzPrUGlPivXlIiV2A9aJ4f2/bWm5FaX81jn2o6DNFtumZttmuYVKj2BgQp2UsyRani8vCRtjrbg3r7SjQrnRq+V4r/Epa25GQS9to8jpYp3FjNLjF/D+urn/GT63LMIZl4x88Tfe6mRYgemDSlyz8M9A0uZnIIcHrkm360EVfw76UFcg9wJ7Bj8uiBw35I1DOUEIIRHr8PQCE0JIiFEAJIRELAqAhJCIRQGQEBKxKAASQiIWBUBCSMSiAEgIiVgUAAkhEYsCICEkYlEAJIRELAqAhJCIRQGQEBKxKAASQiIWBUBCSMSiAEgIiVgUAAkhEYsCICEkYlEAJIRELAqAhJCIRQGQEBKxKAASQiIWBUBCSMSiAEgIiVgUAAkhEYsCICEkYh2gAHgcOp14SkLrhhnffTsIU6V4TQiRKAuA0hfp+bZT/w0xn1Jn2jH57W/Q+kZ/QcthGpeP08uHVaJMEMc16OP3xohH1YNB+fP0pEGUERI+QdUAV2eeos/iOw1OihmUOhYDtXgaCVSGAjQmiBdkU/aNu7iYHi1eERJ+QQVAh7UBdRd9pzu9YgayPacTTiQhu+6EKCCcprIdLcajgHURq6KMkHALzznAzXNORrQ8EU0aNk0O3EXVZs1nq0n4Hf/gM1qjeM2n8XZ4NBQT2LIeWVhT2TXPIMYeNaHCqyYlN6HMuJnAalkPLXjpmv+bQZjrxUyBSitH28MeTH7jWqe8nP5mI4I+XemcxfM5IDGtCkZR5GObc3Y3n/BtYPsmvWpAP9ueoYftGJO2bYQ1oY1snhF5O8e/xpU0acYtmk9hHhbvs2nyie/xC89xLkbLAF8v38ZMUeauGI1nUqG2v0DzR7NwiFJCwi2MnSBR0NfUIhuzUvN4xOqAWnMSF++4wtorDPaL5vPMulTi0bTuH8a8VMoksGD5uB7F+ijYJ4bl5vaEAyr9KVz5qoGtw1sM0jsbcPqYA9NDfHnDeG4D1EpbV7pcpBti4LS9wKC0XfJytEX16HpQDo2YTanRlwtA3AlUnBEFe5B4LBozlmewOlXsB6Qe+ZhC39AC7OpkFJ0pEHNx0UgpL4PWwd7nx48dc5VWPn7pYo6wHed32XHUqNgTto2s+e+rD9X3u9F58SxMy6KIkB9BUAHQo6a2OblqJi4qqG19KC05LzWPq0taMcLaNqpjmaJmNwXTddF8ZsGR82haXzdjQioFjNfeR4baiemOSuR9cEl6v+YDI+qGltmXuACf+ASSaCRGz+JGWTmqzvHlXUJVSSXOtIm3AzVvQl1+DrJKzqJG2i6+nEvo41/y9BK8L2ZT7PoAplnASimsFQXBs88/Ztt2Hg9n+DF0YM7Ejve5J5izsxir8axtqdaGUSf+HjWnP8RjVhNVaU+iulB+P2zH+XePMWp1sidOzM30yWXeulrx+Zh4TsiPJKgAuDT0GWoveE+t6BTvu1jnvwCLFUIf1vh3VB0DvVwQoAIU6WLYN53VJFtXRJls1PIaqyzQatJ8axVLY01etYkV2JTWLibHMerz/0xh2sZ3JIp9/YNlQvcEq/XqT+y5M2TN1iM/OjfYv+uw/Za/egWHn3bk0kwrRsVzfjwa5xfZYwy0efHsMZzHeRyXS3Lw9js5KL06JcoI2X9BBcAN+wAs/d7T+FaTVeLAqmdBkJIRF8ce1Km46l3rvHMS/C2V6qfSnFscsM14fomDcxzV98ye5wDZdDUEPZU9919gKYSdIRbp18VlCnZe4fLg55jMr4NVFKGOzWH/7udxJmR/hPEcYIjZhv3UOuWpvm1EzBRaVQ9+jYt5R1nTcRaDPZ24JtbXKTU392iyHaO7dYbsh304zoTsl0MQAGexyq+LiH4LsT61TnkamgxHLcSIfB2r6fGeyYIPUXO1Hd1ifYjiNcAoqPbUfGVN0LFZOHlniFYUeWDLjxVPJfGsBiaeBiUaGgNv6rphTV5+/aV9jQe2cB7nTNE7PYLeG3T5Dzk4DlQAjFJ5fUEl7MvHmmpQJ+O0v0sodAUo8r7cI5yympAnncSMRmyeVBK81mHM8c4Qg3wZ0CapaaqCRlcsCpisszAE2+0sJBp4r7xLPBp1fL3rsA7xwBbG4/xuGbK1ci+w3uC2T4Tss6ACYLS2CS3NvlNjZZC/7r0LWGIPiVl30eFa3rXyzcszeq534rmdX+ZxG2OP7or13YaJX2P4+FNUhOUe4h4MzrOmrjoV5wba0cbXee9rDN07BbU9BE1giegM8dY1Dt5pGpddi/4v+XrbMdScy9brc2JPEWdsLlqeyMev7eHXKGOB3Dk3gMZ++f2wHeffDWPCJvcCW2dYDdoPYy1fF5+Oyp1L0UfF6yZcKJVmISTkggqAcYZTKC7yM+UdF3MoNNmARvMC7KqjyHEtqzB362LjZTOqym7hoXTt2kmxvlykxG7AOjHMApWYL8RMH3yGzollqDSpyOfrzDqCjaFbqGxh28qblOl7b87JnSHeTKhreYYlZzS02fy4JmFjrBX35nlPb7AcmDY9hjX6hHT88vn1jdan+Pxc61ZPfdiOcx/qCuRe4MKr46LMU3oeXxefkqUOF8Qli9dsW3/MGj6JKL+X+AepfyOeE0JIRDk8vcCEEBJiFAAJIRGLAiAhJGJRACSERCwKgISQiEUBkBASsSgAEkIiFgVAQkjEogBICIlYFAAJIRGLAiAhJGJRACSERCwKgISQiEUBkBASsSgAEkIiFgVAQkjEogBICIlYFAAJIRGLAiAhJGJRACSERCwKgISQiEUBkBASsSgAEkIiFgVAQkjEogBICIlYBygAHodOJ54SNzsclxtmfPftIEyV4jWR0XEhAVIWAKUP1vNtp/4bYj6lzrRj8tvfoPXAfmBr0Sv2cezLAlH2Izjwx4XsTTyqHgzK358nDaKM/JiCqgGuzjxFn8V3GpwUMyh1LAZq8fRAqk2GVjyN0xWjSDwPu4N+XMieZN+4i4vp0eIV2Q9BBUCHtQF1F32nO71ihjdMdfpxqLCIkdF1FgGPoDhNvEFIkDSV7WgxHgWsi1gVZeTHF55zgJvnYIxoeSKq+GyaHLiLqgQxD8phGhfNZ/5BYLRG8ZpP4+2okkqFBLasRxbWJHTNM4ixR02o2FyeTG5SmHEzoQCNDy146Zr/m0GY68VMipQj+5gKsL1Gx9gi7EiArvyEeE8IaH+FrFqYBrbm4dvV32zE1mk+hcdF4rnel/7Wux/HL9Djss05u5tP+PxsW6RXDehn/+/Qw3aMScsZQf8NI5tnRF7u+Ne44v3DpPkU5mHxPl/vE9/9Dc9xKUbLAF8v38ZMUeauGI1nUqG2v0DzR7NwiFLy4wtjJ0gU9DW1yMas1DwesTqg1pzExTuur+8rDPaL5vMMq1kxHk3r/mHMS6VMAgsKj+tRrI+CfWJYbm5POKDSn8KVrxrYOrzFIL2zAaePOTA9xJc3jOc2QB1Ma6P0JLSsHbo0342JrllYnUAiawZrxNtbdttfJqEWvfcqkMH+Z+uovF3T9ihoi+rR9aBczKTguEh816vyWe8+Hr9AjosCiceiMWN5xv4OKvbDUI98TKFvaAF2dTKKzrifn41GSnkZtA72Pt9fdixVWnl/08UcYTsu7+YiXcN+NFm7QWvwd864D9X3u9F58SxMy6KI7IufiEdFpBqJUbzYtIjH75TjsnjF//hq22O8+/MvwD4jTDE6hv8Vco5lshqMif03BdN1NvG3WA2g2BAjN62vSjN7MF57HxlqJ6Y7KlHeuiJKgex7PbifV4BPzjRh9L4olEQjMfoFbpS5f8DiofH+9Q9AUWES4rCOEcsUezWFGev7SNEnoZotq9Hjw7vb/rJlXSuAnn0vliyfofDiuDSXXOOrQ0Z6CRoTzGyZgR8X2e7r3c/jF8j2KWGff4yaiz1Sjewqi2RzpvOo+604hhpe2xqQZ2RUa8OoKbmEUelVPBof9eK0/iSqC4GJ/jAel989xqg1E2Vatn0zfaLQS1crPhdPyf4Jqga4NPQZai94T63oFO+7WOddH3quD2u8rq+OgV4uCFABinQx7JPPahBuH1Ju1PIaq+wLpknz/ZVdGmvy+nVdgc3jdSBOoFjL172IUfaF4TrnF9m/SUjxU4HZeX/jkc+XxX4oJlpcwY8zo1uq6R2B3lUJVGjn9e7n8ZOF5nMgW7P1yI/ODfbvOmy/5a9eweGnHbk00yqCH7eCRulvFwNtXjx7DOdxGcflkhy8/U4OSq/yH05yUAUVADfsA7D0e0/jXk0zB1Y9C4KUjLg49qBOxdXN8zRiunOS1c7YL73qp9KcWxywzXh+qIOSZoSONVedthWsFbIvDJsM8yvSSWut4aw8z6bd9jcHsbypZF/HnNcXxiJFBFZTipVfK7Pbevfx+ElC9TnwJB8zlynYneLpJj/7ML8OO3tQx+awf/f7uJCDIIznAEPMNuyn1ilP9W0jYqbQ0pQmIZE9qvQlaL3zS3m6LL4culRUS3MdEvtw/A4FOi4R7RAEwFms8ipX9FuI9al1ytPQZDh+leNRreO9sMvo8/piNE+wJqvqCLIVXaA8Ipp+8UjxOmdUJFUNnbCvya9Da7+On1JRUHnUgONZDUw8DUo0NAbe1HXDmrz8ukr7Gg9s4TwumaJ3egS9N7yuGCAHyoEKgFEqrw+shH0YWdMF6mSc9ndJgY41TcNyXV4FUvhJKtsrdHt9MTqG+OUw0dBmFcuzBmQFg1Z+ri8Bhjr3/ShHhYGfG3yNObNc4s3/cQnUfh0/BaSmqQoandvxzDoLg29XuyKJBt777BKPRukHbR3WIR7Ywnhc3i1DtlbuBdYblHxGyI8tqAAYrW1CS7Pv1FgZ5K9d7wKW2ENi1l10uJZ3rXzzcoWe6514bueXPdzG2KO7Yn23YeLXlj3+FBXhuIdY3P1htz3DhFyypeuVdFI/jn1JlLBcH8Acv4ym6Jfo/1LeB/NwDTJYtcQ+8cSrV5nZ5bgEal+OnxJd49LlRXHZtfJxudeOoeZcqH1P7CnijM1FyxN5f9sefo0y9oPmnBtAo+jQCttx+d0wJmx8252wzmz1Srsz1oq/Z/NR9lPKRB8Vr5twoVSahfwIggqAcYZTKC7yM+UdF3MoNNmARvMC7KqjyHEtqzB36+LgZTOqym7hoXQt10mxvlykxG7AOjGMwTCcZL8g3f3BP8Byr6OnblilCHhEfhmo5VaUnuuWrh3TZot9ULN9sNxC5Qd+qn+7HZdA7cPxU8aEupZnWHKyWjU/LnlJ2Bhrxb153tMbLAemTY9hjT4h7W8+q2U7rU/x+bnWrR7psB2XPtQVyL3AhVfde/y3pOeJv2dRsnROGXHJ4jXbVrrT6Efze4l/kPo34jkhhESUw9MLTAghIUYBkBASsSgAEkIiFgVAQkjEogBICIlYFAAJIREryABIuQwIIYdfUAGQchkQQt4EigMg5TIghLwpFAZAymVACHlzKAyAlMuAEPLmUH4OkOcyGBPPCSHkEAuqE4QQQt4EFAAJIRGLAiAhJGJRACSERCwKgISQiKV4RGieyyBbSlaTgHQ+nPfqLPom5WtibGMNuNMrPSWEkANPcQC8+eQ5yni2ID+sPRkovCpeEELIAUc5QQghEYvOARJCIhYFQEJIxKIASAiJWBQACSERiwIgISRiUQAkhESsIAMg5QQhhBx+QQVAyglCCHkTKA6AlBOEEPKmUBgAKScIIeTNoTAAUk4QQsibQ/k5QMoJQgh5QwTVCUIIIW8CCoCEkIhFAZAQErEoABJCIhYFQEJIxKKcIISQiEU5QQghEYtyghBCIhadAySERCwKgISQiEUBkBASsSgAEkIiFgVAQkjEogBICIlYQQbAWvTyfCBsGvuyQJQdJJSzhBCyu+ACYG0yXNdCx+mKUSSeHxSUs4QQEoigAmB1+nGosIiR0XUWAY+gOE28cQBQzhJCSKCCCIDlyD6mAmyv0TG2CDsSoCs/Id4TbphZ83MQpkojWp6IpiibJgfuoipBzOOSVQvTwCBeinm++3YEk8NmtFSK9z0Uo2VgRJqn/0amKHNHOUsIIYFTHgBLT0KrBpbmuzHRNQurE0hkzWBpfAQPUdDX1CIbs+izPMWI1QG15iQu3qkS73PlMDVXIIP9z7bRp9J8faOvYFcdhV4nZnH3bi7SNSz4svqn1uDv3CPlLCGEBE5xACwqTEIc1mG1TLFX7ZixsgdtEqq9a3YsSKltfSgtOY+6iw2oLmnFCGuTqo5lYjMEvpcLPQum9okOFH7cIM1X9/GHyMssxZk2MY+73z3GKI+4cGJupk8u80Y5SwghAVIYAE+gWBvDItYiRvvlks75RfZvElLcK3aCdf4L2MRzXjtb421SdQz0cgHw/Q+sCc2KNMkwetT4VmDzW4Mbx+WSHLz9Tg5Kr/IATAghwVMWANOM0LHmqtO2grXCAlYbLIBhfkXqbNAazsrzbHJgdV483c5kKzon1gHNKdx6/Bwvxy3of9SOm+8dFzMQQkj4KAqAmtIkJLJHlb4ErXd+KU+XT7ImMSvTpaJamkuJFZg+KMJ/+VEbHg69gNURBa0+FWWNX2/TyUEIIaGjIADGo1p3lD0uo+/CZ6h1m5p5LU51BNl+e253Nz9mQuO5sygtyMfbHz3FEu/kyKrwc31hJm4+kXuBe2949TwTQohCCgJgBVL4yTvbK3T3D8DiNnUM8ctholnQKpZnDVRCvG/v8dgsbPzEoD/vliFbK/cC6w0K10UIIR6A/z98aK0uhEdtBwAAAABJRU5ErkJggg==)"
      ],
      "metadata": {
        "id": "Bss4kccuM4Q7"
      }
    },
    {
      "cell_type": "markdown",
      "source": [
        "Area Of Rectangle Program"
      ],
      "metadata": {
        "id": "4wOki9thOsVd"
      }
    },
    {
      "cell_type": "code",
      "source": [
        "%%writefile rect.cpp\n",
        "#include<iostream>\n",
        "using namespace std;\n",
        "class Rect\n",
        "{\n",
        "  float l,b;\n",
        "  public:\n",
        "    Rect()\n",
        "    {\n",
        "      l=0;\n",
        "      b=0;\n",
        "    }\n",
        "    Rect(float a,float k)\n",
        "    {\n",
        "      l=a;\n",
        "      b=k;\n",
        "    }\n",
        "    void area()\n",
        "    {\n",
        "      cout<<l<<\" \"<<b<<endl;\n",
        "      cout<<\"The area of the Rectangle is:\"<<l*b<<endl;    \n",
        "    }\n",
        "};\n",
        "int main()\n",
        "{\n",
        "  float a,b;\n",
        "  cout<<\"Enter The Length of the Rectangle:\";\n",
        "  cin>>a;\n",
        "  cout<<endl;\n",
        "  cout<<\"Enter The width of the rectangle:\";\n",
        "  cin>>b;\n",
        "  cout<<endl;\n",
        "  Rect r(a,b);\n",
        "  r.area();\n",
        "  return 0;\n",
        "}"
      ],
      "metadata": {
        "colab": {
          "base_uri": "https://localhost:8080/"
        },
        "id": "PdjKbPh3NFIK",
        "outputId": "f12aa05f-9262-41dc-e813-9fb8d0d214dc"
      },
      "execution_count": null,
      "outputs": [
        {
          "output_type": "stream",
          "name": "stdout",
          "text": [
            "Writing rect.cpp\n"
          ]
        }
      ]
    },
    {
      "cell_type": "code",
      "source": [
        "%%shell\n",
        "g++ rect.cpp -o o1\n",
        "./o1"
      ],
      "metadata": {
        "colab": {
          "base_uri": "https://localhost:8080/"
        },
        "id": "xfEqSqwfNQhE",
        "outputId": "447ae503-2d26-4b83-fa9d-34c16af06eb7"
      },
      "execution_count": null,
      "outputs": [
        {
          "output_type": "stream",
          "name": "stdout",
          "text": [
            "Enter The Length of the Rectangle:23\n",
            "\n",
            "Enter The width of the rectangle:12\n",
            "\n",
            "23 12\n",
            "The area of the Rectangle is:276\n"
          ]
        },
        {
          "output_type": "execute_result",
          "data": {
            "text/plain": [
              ""
            ]
          },
          "metadata": {},
          "execution_count": 4
        }
      ]
    },
    {
      "cell_type": "markdown",
      "source": [
        "Output:\n",
        "![Screenshot (490).png](data:image/png;base64,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)\n"
      ],
      "metadata": {
        "id": "1NFjixK0Ngm1"
      }
    },
    {
      "cell_type": "markdown",
      "source": [
        "Student Database Program"
      ],
      "metadata": {
        "id": "RYUTIv80Ol9k"
      }
    },
    {
      "cell_type": "code",
      "source": [
        "%%writefile stddb.cpp\n",
        "#include<iostream>\n",
        "using namespace std;\n",
        "const int m=1;\n",
        "class student\n",
        "{\n",
        "  char name[20];\n",
        "  long int rollNo;\n",
        "  float cgpa;\n",
        "  float marks[25];\n",
        "  public:\n",
        "    student()\n",
        "    {\n",
        "      name;\n",
        "      rollNo=0;\n",
        "      cgpa=0;\n",
        "    }\n",
        "    void input()\n",
        "    {\n",
        "      cout<<\"Enetr Students's name:\";\n",
        "      cin>>name;\n",
        "      cout<<\"Enter Student's Roll Number:\";\n",
        "      cin>>rollNo;\n",
        "      cout<<endl;\n",
        "      for(int i=0;i<5;i++)\n",
        "      {\n",
        "        cout<<\"#Subject\"<<i+1<<\": \";\n",
        "        cin>>marks[i];\n",
        "      }\n",
        "      cout<<endl;\n",
        "    }\n",
        "  void compute()\n",
        "  {\n",
        "    for(int i=0;i<5;i++)\n",
        "    {\n",
        "      cgpa+=marks[i];    \n",
        "    }\n",
        "    cgpa/=50;\n",
        "  }\n",
        "  void printInfo()\n",
        "  {\n",
        "    cout<<\"Student's name:\"<<name<<endl;\n",
        "    cout<<\"Student's Roll Number:\"<<rollNo<<endl;\n",
        "    cout<<\"Student's Cgpa:\"<<cgpa<<endl;\n",
        "  }\n",
        "};\n",
        "int main()\n",
        "{\n",
        "  int c=0;\n",
        "  student s[m];\n",
        "  for(int i=0;i<m;i++)\n",
        "  {\n",
        "    s[i].input();\n",
        "  }\n",
        "  cout<<\"Want To compute CGPA for the students?\"<<endl;\n",
        "  cout<<\"\\t1.Yes\"<<endl<<\"\\t0.No\"<<endl;\n",
        "  cout<<\"Enter Your Reply:\";\n",
        "  cin>>c;\n",
        "  cout<<endl;\n",
        "  if(c)\n",
        "  {\n",
        "    for(int i=0;i<m;i++)\n",
        "    {\n",
        "       s[i].compute();   \n",
        "    }   \n",
        "  }\n",
        "  for(int i=0;i<m;i++)\n",
        "  {\n",
        "      cout<<\"Student NO:\"<<i+1<<endl;\n",
        "      s[i].printInfo();\n",
        "      cout<<endl;\n",
        "  }\n",
        "}"
      ],
      "metadata": {
        "colab": {
          "base_uri": "https://localhost:8080/"
        },
        "id": "ty8hUdJBNlII",
        "outputId": "080661a5-3190-4577-9589-81baaddba1b6"
      },
      "execution_count": null,
      "outputs": [
        {
          "output_type": "stream",
          "name": "stdout",
          "text": [
            "Writing stddb.cpp\n"
          ]
        }
      ]
    },
    {
      "cell_type": "code",
      "source": [
        "%%shell\n",
        "g++ stddb.cpp -o o2\n",
        "./o2"
      ],
      "metadata": {
        "colab": {
          "base_uri": "https://localhost:8080/"
        },
        "id": "FT8clPOGOCch",
        "outputId": "36df5ecd-8a89-482a-bd1c-5d7f5a708306"
      },
      "execution_count": null,
      "outputs": [
        {
          "output_type": "stream",
          "name": "stdout",
          "text": [
            "Enetr Students's name:Ram\n",
            "Enter Student's Roll Number:72\n",
            "\n",
            "#Subject1: 89\n",
            "#Subject2: 98\n",
            "#Subject3: 100\n",
            "#Subject4: 94\n",
            "#Subject5: 97\n",
            "\n",
            "Want To compute CGPA for the students?\n",
            "\t1.Yes\n",
            "\t0.No\n",
            "Enter Your Reply:1\n",
            "\n",
            "Student NO:1\n",
            "Student's name:Ram\n",
            "Student's Roll Number:72\n",
            "Student's Cgpa:9.56\n",
            "\n"
          ]
        },
        {
          "output_type": "execute_result",
          "data": {
            "text/plain": [
              ""
            ]
          },
          "metadata": {},
          "execution_count": 6
        }
      ]
    },
    {
      "cell_type": "markdown",
      "source": [
        "Output:\n",
        "![Screenshot (489).png](data:image/png;base64,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)"
      ],
      "metadata": {
        "id": "uCxRwOhBOXYq"
      }
    },
    {
      "cell_type": "code",
      "source": [
        "%lsmagic"
      ],
      "metadata": {
        "colab": {
          "base_uri": "https://localhost:8080/",
          "height": 165
        },
        "id": "MmsE8xEEPLII",
        "outputId": "e577371d-c75d-43cf-b8d6-3044f15d232c"
      },
      "execution_count": null,
      "outputs": [
        {
          "output_type": "execute_result",
          "data": {
            "text/plain": [
              "Available line magics:\n",
              "%alias  %alias_magic  %autocall  %automagic  %autosave  %bookmark  %cat  %cd  %clear  %colors  %config  %connect_info  %cp  %debug  %dhist  %dirs  %doctest_mode  %ed  %edit  %env  %gui  %hist  %history  %killbgscripts  %ldir  %less  %lf  %lk  %ll  %load  %load_ext  %loadpy  %logoff  %logon  %logstart  %logstate  %logstop  %ls  %lsmagic  %lx  %macro  %magic  %man  %matplotlib  %mkdir  %more  %mv  %notebook  %page  %pastebin  %pdb  %pdef  %pdoc  %pfile  %pinfo  %pinfo2  %pip  %popd  %pprint  %precision  %profile  %prun  %psearch  %psource  %pushd  %pwd  %pycat  %pylab  %qtconsole  %quickref  %recall  %rehashx  %reload_ext  %rep  %rerun  %reset  %reset_selective  %rm  %rmdir  %run  %save  %sc  %set_env  %shell  %store  %sx  %system  %tb  %tensorflow_version  %time  %timeit  %unalias  %unload_ext  %who  %who_ls  %whos  %xdel  %xmode\n",
              "\n",
              "Available cell magics:\n",
              "%%!  %%HTML  %%SVG  %%bash  %%bigquery  %%capture  %%debug  %%file  %%html  %%javascript  %%js  %%latex  %%perl  %%prun  %%pypy  %%python  %%python2  %%python3  %%ruby  %%script  %%sh  %%shell  %%svg  %%sx  %%system  %%time  %%timeit  %%writefile\n",
              "\n",
              "Automagic is ON, % prefix IS NOT needed for line magics."
            ],
            "application/json": {
              "line": {
                "automagic": "AutoMagics",
                "autocall": "AutoMagics",
                "alias_magic": "BasicMagics",
                "lsmagic": "BasicMagics",
                "magic": "BasicMagics",
                "page": "BasicMagics",
                "profile": "BasicMagics",
                "pprint": "BasicMagics",
                "colors": "BasicMagics",
                "xmode": "BasicMagics",
                "quickref": "BasicMagics",
                "doctest_mode": "BasicMagics",
                "gui": "BasicMagics",
                "precision": "BasicMagics",
                "notebook": "BasicMagics",
                "save": "CodeMagics",
                "pastebin": "CodeMagics",
                "loadpy": "CodeMagics",
                "load": "CodeMagics",
                "edit": "KernelMagics",
                "config": "ConfigMagics",
                "prun": "ExecutionMagics",
                "pdb": "ExecutionMagics",
                "debug": "ExecutionMagics",
                "tb": "ExecutionMagics",
                "run": "ExecutionMagics",
                "timeit": "ExecutionMagics",
                "time": "ExecutionMagics",
                "macro": "ExecutionMagics",
                "load_ext": "ExtensionMagics",
                "unload_ext": "ExtensionMagics",
                "reload_ext": "ExtensionMagics",
                "history": "HistoryMagics",
                "recall": "HistoryMagics",
                "rerun": "HistoryMagics",
                "logstart": "LoggingMagics",
                "logstop": "LoggingMagics",
                "logoff": "LoggingMagics",
                "logon": "LoggingMagics",
                "logstate": "LoggingMagics",
                "pinfo": "NamespaceMagics",
                "pinfo2": "NamespaceMagics",
                "pdef": "NamespaceMagics",
                "pdoc": "NamespaceMagics",
                "psource": "NamespaceMagics",
                "pfile": "NamespaceMagics",
                "psearch": "NamespaceMagics",
                "who_ls": "NamespaceMagics",
                "who": "NamespaceMagics",
                "whos": "NamespaceMagics",
                "reset": "NamespaceMagics",
                "reset_selective": "NamespaceMagics",
                "xdel": "NamespaceMagics",
                "alias": "OSMagics",
                "unalias": "OSMagics",
                "rehashx": "OSMagics",
                "pwd": "OSMagics",
                "cd": "OSMagics",
                "env": "OSMagics",
                "set_env": "OSMagics",
                "pushd": "OSMagics",
                "popd": "OSMagics",
                "dirs": "OSMagics",
                "dhist": "OSMagics",
                "sc": "OSMagics",
                "sx": "OSMagics",
                "system": "OSMagics",
                "bookmark": "OSMagics",
                "pycat": "OSMagics",
                "matplotlib": "PylabMagics",
                "pylab": "PylabMagics",
                "killbgscripts": "ScriptMagics",
                "ed": "Other",
                "hist": "Other",
                "rep": "Other",
                "clear": "KernelMagics",
                "less": "KernelMagics",
                "more": "KernelMagics",
                "man": "KernelMagics",
                "connect_info": "KernelMagics",
                "qtconsole": "KernelMagics",
                "autosave": "KernelMagics",
                "mkdir": "Other",
                "rmdir": "Other",
                "mv": "Other",
                "rm": "Other",
                "cp": "Other",
                "cat": "Other",
                "ls": "Other",
                "ll": "Other",
                "lf": "Other",
                "lk": "Other",
                "ldir": "Other",
                "lx": "Other",
                "store": "StoreMagics",
                "shell": "Other",
                "pip": "Other",
                "tensorflow_version": "Other"
              },
              "cell": {
                "js": "DisplayMagics",
                "javascript": "DisplayMagics",
                "latex": "DisplayMagics",
                "svg": "DisplayMagics",
                "html": "DisplayMagics",
                "prun": "ExecutionMagics",
                "debug": "ExecutionMagics",
                "timeit": "ExecutionMagics",
                "time": "ExecutionMagics",
                "capture": "ExecutionMagics",
                "sx": "OSMagics",
                "system": "OSMagics",
                "!": "OSMagics",
                "writefile": "OSMagics",
                "script": "ScriptMagics",
                "sh": "Other",
                "bash": "Other",
                "perl": "Other",
                "ruby": "Other",
                "python": "Other",
                "python2": "Other",
                "python3": "Other",
                "pypy": "Other",
                "SVG": "Other",
                "HTML": "Other",
                "file": "Other",
                "bigquery": "Other",
                "shell": "Other"
              }
            }
          },
          "metadata": {},
          "execution_count": 4
        }
      ]
    }
  ]
}